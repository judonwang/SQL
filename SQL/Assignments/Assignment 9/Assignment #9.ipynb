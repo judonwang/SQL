{
 "cells": [
  {
   "cell_type": "markdown",
   "id": "c0f7e183",
   "metadata": {},
   "source": [
    "# Assignment #9"
   ]
  },
  {
   "cell_type": "code",
   "execution_count": 1,
   "id": "3089f0d4-2a35-4cee-b1ee-8b4b2f5fdda5",
   "metadata": {},
   "outputs": [],
   "source": [
    "from pandas import DataFrame\n",
    "from DATA225utils import make_connection, dataframe_query"
   ]
  },
  {
   "cell_type": "code",
   "execution_count": 2,
   "id": "f94e1c0a",
   "metadata": {},
   "outputs": [],
   "source": [
    "def make_table(table, sql):\n",
    "    cursor_warehouse.execute(f\"DROP TABLE IF EXISTS {table}\")\n",
    "    cursor_warehouse.execute(sql)"
   ]
  },
  {
   "cell_type": "code",
   "execution_count": 3,
   "id": "1b8d7325",
   "metadata": {},
   "outputs": [],
   "source": [
    "def display_table(table, order_by=''):\n",
    "    sql = f\"SELECT * FROM {table}\"\n",
    "    \n",
    "    if order_by != '':\n",
    "        sql = sql + \" ORDER BY \" + order_by\n",
    "        \n",
    "    _, df = dataframe_query(conn_warehouse, sql)    \n",
    "    return df"
   ]
  },
  {
   "cell_type": "markdown",
   "id": "94293c92-9412-47ba-85a3-aaccc810502d",
   "metadata": {},
   "source": [
    "## The dimensional model (data warehouse)"
   ]
  },
  {
   "cell_type": "code",
   "execution_count": 4,
   "id": "a9aac36c-044a-43b3-8f88-415b55acc00e",
   "metadata": {},
   "outputs": [],
   "source": [
    "conn = make_connection(config_file = 'movie-warehouse.ini')\n",
    "cursor = conn.cursor()"
   ]
  },
  {
   "cell_type": "markdown",
   "id": "fd62b1ce-adb9-448d-846c-d9f2bb7b03bc",
   "metadata": {},
   "source": [
    "# movie dimension"
   ]
  },
  {
   "cell_type": "code",
   "execution_count": 5,
   "id": "b8272056-e1f7-413c-83ba-2400f41b4832",
   "metadata": {},
   "outputs": [],
   "source": [
    "cursor.execute('DROP TABLE IF EXISTS movie')\n",
    "\n",
    "sql = ( \"\"\"\n",
    "        CREATE TABLE movie\n",
    "        (\n",
    "            Movie_ID INT, \n",
    "            Movie_Title VARCHAR(255), \n",
    "            Budget INT,\n",
    "            RunTime INT,\n",
    "            PRIMARY KEY (Movie_ID)\n",
    "        )\n",
    "        \"\"\"\n",
    "      )\n",
    "cursor.execute(sql)"
   ]
  },
  {
   "cell_type": "code",
   "execution_count": 6,
   "id": "868bb01b",
   "metadata": {},
   "outputs": [],
   "source": [
    "sql_Movie = ( \"\"\"\n",
    "              INSERT INTO movie VALUES\n",
    "              (862, 'Toy Story', 30000000, 81.0), \n",
    "              (8844, 'Jumanji', 65000000, 104.0), \n",
    "              (949, 'Heat', 60000000, 170.0), \n",
    "              (710, 'GoldenEye', 58000000, 130.0),\n",
    "              (1408, 'Cutthroat Island', 98000000, 119.0)\n",
    "              \"\"\"\n",
    "          )\n",
    "cursor.execute(sql_Movie)\n",
    "conn.commit()"
   ]
  },
  {
   "cell_type": "markdown",
   "id": "862f759b",
   "metadata": {},
   "source": [
    "# users dimension"
   ]
  },
  {
   "cell_type": "code",
   "execution_count": 7,
   "id": "7fe7d5a2",
   "metadata": {},
   "outputs": [],
   "source": [
    "cursor.execute('DROP TABLE IF EXISTS users')\n",
    "\n",
    "sql = ( \"\"\"\n",
    "        CREATE TABLE users\n",
    "        (\n",
    "            User_ID VARCHAR(255), \n",
    "            First_Name CHAR(255),  \n",
    "            Last_Name CHAR(255),      \n",
    "            User_Name VARCHAR(255),\n",
    "            PRIMARY KEY (User_ID)\n",
    "        )\n",
    "        \"\"\"\n",
    "      )\n",
    "\n",
    "cursor.execute(sql)"
   ]
  },
  {
   "cell_type": "code",
   "execution_count": 8,
   "id": "24968f86",
   "metadata": {},
   "outputs": [],
   "source": [
    "sql_Users = ( \"\"\"\n",
    "              INSERT INTO users VALUES\n",
    "              ('111','Joseph','Chang','joseph123'),\n",
    "              ('222','Shrey','Jain','shrey01'),\n",
    "              ('333','Satyaprakash','Mishra','sp17mishra'),\n",
    "              ('444','Justin','Wang','justinw002'),\n",
    "              ('555','Ron','Mak','ronmak145')\n",
    "              \"\"\"\n",
    "          )\n",
    "cursor.execute(sql_Users)\n",
    "conn.commit()"
   ]
  },
  {
   "cell_type": "markdown",
   "id": "dd75676a",
   "metadata": {},
   "source": [
    "# production_location dimension"
   ]
  },
  {
   "cell_type": "code",
   "execution_count": 9,
   "id": "516ffced",
   "metadata": {},
   "outputs": [],
   "source": [
    "cursor.execute('DROP TABLE IF EXISTS production_location')\n",
    "\n",
    "sql = ( \"\"\"\n",
    "        CREATE TABLE production_location\n",
    "        (\n",
    "            Country_Code CHAR(255), \n",
    "            Continent CHAR(255), \n",
    "            Country CHAR(255), \n",
    "            City CHAR(255),\n",
    "            PRIMARY KEY (Country_Code)\n",
    "        )\n",
    "        \"\"\"\n",
    "      )\n",
    "\n",
    "cursor.execute(sql)"
   ]
  },
  {
   "cell_type": "code",
   "execution_count": 10,
   "id": "ee0d7580",
   "metadata": {},
   "outputs": [],
   "source": [
    "sql_PL = ( \"\"\"\n",
    "              INSERT INTO production_location VALUES\n",
    "              ('USA', 'North_America', 'United_States', 'New York'),\n",
    "              ('UK', 'Europe', 'Great Britain', 'London'),\n",
    "              ('CHI', 'Asia', 'China', 'Beijing'),\n",
    "              ('FRA', 'Europe', 'France', 'Paris')\n",
    "              \n",
    "              \"\"\"\n",
    "          )\n",
    "cursor.execute(sql_PL)\n",
    "conn.commit()"
   ]
  },
  {
   "cell_type": "markdown",
   "id": "ac2fed98",
   "metadata": {},
   "source": [
    "# date dimension"
   ]
  },
  {
   "cell_type": "code",
   "execution_count": 11,
   "id": "1e4ac33e",
   "metadata": {},
   "outputs": [],
   "source": [
    "cursor.execute('DROP TABLE IF EXISTS date')\n",
    "\n",
    "sql = ( \"\"\"\n",
    "        CREATE TABLE date\n",
    "        (\n",
    "            FullDate DATE, \n",
    "            Year INT, \n",
    "            Month INT, \n",
    "            Day INT,\n",
    "            PRIMARY KEY (FullDate)\n",
    "        )\n",
    "        \"\"\"\n",
    "      )\n",
    "\n",
    "cursor.execute(sql)"
   ]
  },
  {
   "cell_type": "code",
   "execution_count": 12,
   "id": "a9e36988",
   "metadata": {},
   "outputs": [],
   "source": [
    "sql_date = ( \"\"\"\n",
    "              INSERT INTO date VALUES\n",
    "              ('2001-12-06', 2001, 12, 06),\n",
    "              ('1994-10-13', 1994, 10, 13),\n",
    "              ('2020-11-10', 2020, 11, 10),\n",
    "              ('2021-01-01', 2021, 01, 01),\n",
    "              ('2000-08-26', 2000, 08, 26)\n",
    "              \n",
    "              \"\"\"\n",
    "          )\n",
    "cursor.execute(sql_date)\n",
    "conn.commit()"
   ]
  },
  {
   "cell_type": "markdown",
   "id": "ecdf5885",
   "metadata": {},
   "source": [
    "# movie_fact Table"
   ]
  },
  {
   "cell_type": "code",
   "execution_count": 13,
   "id": "8cb973a1",
   "metadata": {},
   "outputs": [],
   "source": [
    "cursor.execute('DROP TABLE IF EXISTS movie_fact')\n",
    "\n",
    "sql = ( \"\"\"\n",
    "        CREATE TABLE movie_fact\n",
    "        (\n",
    "            Movie_ID INT, \n",
    "            Country_Code CHAR(255), \n",
    "            FullDate DATE, \n",
    "            Revenue INT,\n",
    "            PRIMARY KEY(Movie_ID, Country_Code, FullDate)\n",
    "        )\n",
    "        \"\"\"\n",
    "      )\n",
    "\n",
    "cursor.execute(sql)"
   ]
  },
  {
   "cell_type": "code",
   "execution_count": 14,
   "id": "dbc9460b",
   "metadata": {},
   "outputs": [],
   "source": [
    "sql_movie_fact = ( \"\"\"\n",
    "              INSERT INTO movie_fact VALUES\n",
    "              (710, 'CHI', '2000-08-26', 4000000), \n",
    "              (862, 'USA', '1994-10-13', 20000000),\n",
    "              (8844, 'FRA', '2001-12-06', 1000000000)\n",
    "              \n",
    "              \"\"\"\n",
    "          )\n",
    "cursor.execute(sql_movie_fact)\n",
    "conn.commit()"
   ]
  },
  {
   "cell_type": "markdown",
   "id": "039af453",
   "metadata": {},
   "source": [
    "# rating_fact Table"
   ]
  },
  {
   "cell_type": "code",
   "execution_count": 15,
   "id": "0454701f",
   "metadata": {},
   "outputs": [],
   "source": [
    "cursor.execute('DROP TABLE IF EXISTS rating_fact')\n",
    "\n",
    "sql = ( \"\"\"\n",
    "        CREATE TABLE rating_fact\n",
    "        (\n",
    "            User_ID INT, \n",
    "            Movie_ID INT,  \n",
    "            FullDate DATE, \n",
    "            Rating FLOAT,\n",
    "            PRIMARY KEY(User_ID, Movie_ID, FullDate)\n",
    "        )\n",
    "        \"\"\"\n",
    "      )\n",
    "\n",
    "cursor.execute(sql)"
   ]
  },
  {
   "cell_type": "code",
   "execution_count": 16,
   "id": "c78e29c7",
   "metadata": {},
   "outputs": [],
   "source": [
    "sql_RF = ( \"\"\"\n",
    "              INSERT INTO rating_fact VALUES\n",
    "              ('12', 13, '2023-11-10', 5.6), \n",
    "              ('111', 2333, '2021-01-01', 3.2), \n",
    "              ('333', 1, '2000-08-26', 9.2)\n",
    "              \n",
    "              \"\"\"\n",
    "          )\n",
    "cursor.execute(sql_RF)\n",
    "conn.commit()"
   ]
  },
  {
   "cell_type": "markdown",
   "id": "8e575d12",
   "metadata": {},
   "source": [
    "# Queries for movies_fact"
   ]
  },
  {
   "cell_type": "markdown",
   "id": "7d4ced71",
   "metadata": {},
   "source": [
    "## Query 1"
   ]
  },
  {
   "cell_type": "code",
   "execution_count": 17,
   "id": "9a7c33fa",
   "metadata": {},
   "outputs": [
    {
     "data": {
      "text/html": [
       "<div>\n",
       "<style scoped>\n",
       "    .dataframe tbody tr th:only-of-type {\n",
       "        vertical-align: middle;\n",
       "    }\n",
       "\n",
       "    .dataframe tbody tr th {\n",
       "        vertical-align: top;\n",
       "    }\n",
       "\n",
       "    .dataframe thead th {\n",
       "        text-align: right;\n",
       "    }\n",
       "</style>\n",
       "<table border=\"1\" class=\"dataframe\">\n",
       "  <thead>\n",
       "    <tr style=\"text-align: right;\">\n",
       "      <th></th>\n",
       "      <th>Movie_ID</th>\n",
       "      <th>Movie_Title</th>\n",
       "      <th>Budget</th>\n",
       "      <th>Revenue</th>\n",
       "      <th>Profit</th>\n",
       "    </tr>\n",
       "  </thead>\n",
       "  <tbody>\n",
       "    <tr>\n",
       "      <th>0</th>\n",
       "      <td>862</td>\n",
       "      <td>Toy Story</td>\n",
       "      <td>30000000</td>\n",
       "      <td>20000000</td>\n",
       "      <td>-10000000</td>\n",
       "    </tr>\n",
       "  </tbody>\n",
       "</table>\n",
       "</div>"
      ],
      "text/plain": [
       "   Movie_ID Movie_Title    Budget   Revenue    Profit\n",
       "0       862   Toy Story  30000000  20000000 -10000000"
      ]
     },
     "metadata": {},
     "output_type": "display_data"
    }
   ],
   "source": [
    "sql = ( \"\"\"\n",
    "        SELECT mm.Movie_ID, mm.Movie_Title, mm.Budget, mw.Revenue, mw.Revenue - mm.Budget AS Profit  \n",
    "        FROM movie mm, movie_fact mw, date md\n",
    "        WHERE mm.Movie_ID = mw.Movie_ID\n",
    "        AND   mw.FullDate = md.FullDate\n",
    "        AND   md.FullDate = \"1994-10-13\";\n",
    "        \"\"\"\n",
    "      )\n",
    "\n",
    "cursor.execute(sql)\n",
    "df1 = DataFrame(cursor.fetchall(), columns = [\"Movie_ID\", 'Movie_Title', 'Budget', 'Revenue', 'Profit'])\n",
    "display(df1)\n"
   ]
  },
  {
   "cell_type": "code",
   "execution_count": 18,
   "id": "7617b981",
   "metadata": {},
   "outputs": [],
   "source": [
    "# This query finds the the budget, revenue, and profit for a movie on October 13th, 1994. \n",
    "# We see that Movie ID 862 is shown."
   ]
  },
  {
   "cell_type": "markdown",
   "id": "755664b4",
   "metadata": {},
   "source": [
    "## Query 2"
   ]
  },
  {
   "cell_type": "code",
   "execution_count": 19,
   "id": "8a9252aa",
   "metadata": {
    "scrolled": true
   },
   "outputs": [
    {
     "data": {
      "text/html": [
       "<div>\n",
       "<style scoped>\n",
       "    .dataframe tbody tr th:only-of-type {\n",
       "        vertical-align: middle;\n",
       "    }\n",
       "\n",
       "    .dataframe tbody tr th {\n",
       "        vertical-align: top;\n",
       "    }\n",
       "\n",
       "    .dataframe thead th {\n",
       "        text-align: right;\n",
       "    }\n",
       "</style>\n",
       "<table border=\"1\" class=\"dataframe\">\n",
       "  <thead>\n",
       "    <tr style=\"text-align: right;\">\n",
       "      <th></th>\n",
       "      <th>Movie_ID</th>\n",
       "      <th>Movie_Title</th>\n",
       "      <th>Country</th>\n",
       "      <th>City</th>\n",
       "    </tr>\n",
       "  </thead>\n",
       "  <tbody>\n",
       "    <tr>\n",
       "      <th>0</th>\n",
       "      <td>710</td>\n",
       "      <td>GoldenEye</td>\n",
       "      <td>CHI</td>\n",
       "      <td>Beijing</td>\n",
       "    </tr>\n",
       "  </tbody>\n",
       "</table>\n",
       "</div>"
      ],
      "text/plain": [
       "   Movie_ID Movie_Title Country     City\n",
       "0       710   GoldenEye     CHI  Beijing"
      ]
     },
     "metadata": {},
     "output_type": "display_data"
    }
   ],
   "source": [
    "sql = ( \"\"\"\n",
    "        SELECT mm.Movie_ID, mm.Movie_Title, mp.Country_Code, mp.City\n",
    "        FROM movie mm, movie_fact mw, production_location mp\n",
    "        WHERE mw.Country_Code = mp.Country_Code\n",
    "        AND mw.Movie_ID = mm.Movie_ID\n",
    "        AND mm.Movie_Title = \"Goldeneye\"\n",
    "        \"\"\"\n",
    "      )\n",
    "\n",
    "cursor.execute(sql)\n",
    "df2 = DataFrame(cursor.fetchall(), columns = [\"Movie_ID\", 'Movie_Title', 'Country', 'City'])\n",
    "display(df2)\n"
   ]
  },
  {
   "cell_type": "code",
   "execution_count": 20,
   "id": "6fb3f7c1",
   "metadata": {},
   "outputs": [],
   "source": [
    "# This query finds the production location for the movie GoldenEye. We see it was filmed in China. \n",
    "# We also see that GoldenEye is Movie_ID 710."
   ]
  },
  {
   "cell_type": "markdown",
   "id": "01d74fce",
   "metadata": {},
   "source": [
    "# Queries for rating_fact"
   ]
  },
  {
   "cell_type": "markdown",
   "id": "2a100e18",
   "metadata": {},
   "source": [
    "## Query 1"
   ]
  },
  {
   "cell_type": "code",
   "execution_count": 21,
   "id": "a7a744b9",
   "metadata": {},
   "outputs": [
    {
     "data": {
      "text/html": [
       "<div>\n",
       "<style scoped>\n",
       "    .dataframe tbody tr th:only-of-type {\n",
       "        vertical-align: middle;\n",
       "    }\n",
       "\n",
       "    .dataframe tbody tr th {\n",
       "        vertical-align: top;\n",
       "    }\n",
       "\n",
       "    .dataframe thead th {\n",
       "        text-align: right;\n",
       "    }\n",
       "</style>\n",
       "<table border=\"1\" class=\"dataframe\">\n",
       "  <thead>\n",
       "    <tr style=\"text-align: right;\">\n",
       "      <th></th>\n",
       "      <th>User_ID</th>\n",
       "      <th>Movie_ID</th>\n",
       "      <th>Rating</th>\n",
       "      <th>Date</th>\n",
       "    </tr>\n",
       "  </thead>\n",
       "  <tbody>\n",
       "    <tr>\n",
       "      <th>0</th>\n",
       "      <td>111</td>\n",
       "      <td>2333</td>\n",
       "      <td>3.2</td>\n",
       "      <td>2021-01-01</td>\n",
       "    </tr>\n",
       "  </tbody>\n",
       "</table>\n",
       "</div>"
      ],
      "text/plain": [
       "   User_ID  Movie_ID  Rating        Date\n",
       "0      111      2333     3.2  2021-01-01"
      ]
     },
     "metadata": {},
     "output_type": "display_data"
    }
   ],
   "source": [
    "sql = ( \"\"\"\n",
    "        SELECT rw.User_ID, rw.Movie_ID, rw.Rating, md.FullDate\n",
    "        FROM users mu, rating_fact rw, date md\n",
    "        WHERE mu.User_ID = rw.User_ID\n",
    "        AND   rw.FullDate = md.FullDate\n",
    "        AND   rw.FullDate = \"2021-01-01\"\n",
    "        \"\"\"\n",
    "      )\n",
    "\n",
    "cursor.execute(sql)\n",
    "df3 = DataFrame(cursor.fetchall(), columns = [\"User_ID\", 'Movie_ID', 'Rating', 'Date'])\n",
    "display(df3)"
   ]
  },
  {
   "cell_type": "code",
   "execution_count": 22,
   "id": "1144c8af",
   "metadata": {},
   "outputs": [],
   "source": [
    "# This query finds the rating given on a specific date. In this case, the date is January 1st, 2021. \n",
    "# User_ID 111 gave this rating to Movie_ID 2333."
   ]
  },
  {
   "cell_type": "markdown",
   "id": "a4588a49",
   "metadata": {},
   "source": [
    "## Query 2"
   ]
  },
  {
   "cell_type": "code",
   "execution_count": 23,
   "id": "6639ed10",
   "metadata": {},
   "outputs": [
    {
     "data": {
      "text/html": [
       "<div>\n",
       "<style scoped>\n",
       "    .dataframe tbody tr th:only-of-type {\n",
       "        vertical-align: middle;\n",
       "    }\n",
       "\n",
       "    .dataframe tbody tr th {\n",
       "        vertical-align: top;\n",
       "    }\n",
       "\n",
       "    .dataframe thead th {\n",
       "        text-align: right;\n",
       "    }\n",
       "</style>\n",
       "<table border=\"1\" class=\"dataframe\">\n",
       "  <thead>\n",
       "    <tr style=\"text-align: right;\">\n",
       "      <th></th>\n",
       "      <th>User_ID</th>\n",
       "      <th>Movie_ID</th>\n",
       "      <th>Rating</th>\n",
       "    </tr>\n",
       "  </thead>\n",
       "  <tbody>\n",
       "    <tr>\n",
       "      <th>0</th>\n",
       "      <td>111</td>\n",
       "      <td>2333</td>\n",
       "      <td>3.2</td>\n",
       "    </tr>\n",
       "  </tbody>\n",
       "</table>\n",
       "</div>"
      ],
      "text/plain": [
       "   User_ID  Movie_ID  Rating\n",
       "0      111      2333     3.2"
      ]
     },
     "metadata": {},
     "output_type": "display_data"
    }
   ],
   "source": [
    "sql = ( \"\"\"\n",
    "        SELECT rw.User_ID, rw.Movie_ID, rw.Rating\n",
    "        FROM users mu, rating_fact rw\n",
    "        WHERE mu.User_ID = rw.User_ID\n",
    "        AND mu.User_ID = \"111\"\n",
    "        \"\"\"\n",
    "      )\n",
    "\n",
    "cursor.execute(sql)\n",
    "df4 = DataFrame(cursor.fetchall(), columns = ['User_ID', 'Movie_ID', 'Rating'])\n",
    "display(df4)"
   ]
  },
  {
   "cell_type": "code",
   "execution_count": 24,
   "id": "e482c18d",
   "metadata": {},
   "outputs": [],
   "source": [
    "# This query finds what are the movies rated by user 111. We see the user rated movie id 2333 as 3.2."
   ]
  }
 ],
 "metadata": {
  "kernelspec": {
   "display_name": "Python 3 (ipykernel)",
   "language": "python",
   "name": "python3"
  },
  "language_info": {
   "codemirror_mode": {
    "name": "ipython",
    "version": 3
   },
   "file_extension": ".py",
   "mimetype": "text/x-python",
   "name": "python",
   "nbconvert_exporter": "python",
   "pygments_lexer": "ipython3",
   "version": "3.9.17"
  }
 },
 "nbformat": 4,
 "nbformat_minor": 5
}
