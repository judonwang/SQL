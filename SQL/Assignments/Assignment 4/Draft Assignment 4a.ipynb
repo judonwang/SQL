{
 "cells": [
  {
   "cell_type": "code",
   "execution_count": 1,
   "id": "5849b546",
   "metadata": {},
   "outputs": [],
   "source": [
    "import csv\n",
    "from DATA225utils import make_connection\n",
    "import pandas as pd"
   ]
  },
  {
   "cell_type": "code",
   "execution_count": null,
   "id": "abe9f807",
   "metadata": {},
   "outputs": [],
   "source": [
    "conn = make_connection(config_file = 'movies.ini')\n",
    "cursor = conn.cursor()"
   ]
  },
  {
   "cell_type": "code",
   "execution_count": null,
   "id": "ea08129f",
   "metadata": {},
   "outputs": [],
   "source": [
    "cursor.execute('DROP TABLE IF EXISTS Movie_Metadata')\n",
    "\n",
    "sql = ( \"\"\"\n",
    "        CREATE TABLE Movie_Metadata\n",
    "        (\n",
    "          ReleaseDate DATE NOT NULL,\n",
    "          IMDB_ID VARCHAR(255) NOT NULL,\n",
    "          Original_Title VARCHAR(255) NOT NULL,\n",
    "          Homepage VARCHAR(255),\n",
    "          Budget INT NOT NULL,\n",
    "          PRIMARY KEY (IMDB_ID)\n",
    "        )\n",
    "        \"\"\"\n",
    "      )\n",
    "\n",
    "cursor.execute(sql)"
   ]
  },
  {
   "cell_type": "code",
   "execution_count": null,
   "id": "3159a699",
   "metadata": {},
   "outputs": [],
   "source": [
    "sql_all = (   \"\"\"\n",
    "              INSERT INTO Movie_Metadata\n",
    "              VALUES\n",
    "                    (1, 'Author 1'),\n",
    "                    (2, 'Author 2'),\n",
    "                    (3, 'Author 3');\n",
    "              \"\"\"\n",
    "          )\n"
   ]
  },
  {
   "cell_type": "code",
   "execution_count": null,
   "id": "501a7036",
   "metadata": {},
   "outputs": [],
   "source": []
  },
  {
   "cell_type": "code",
   "execution_count": null,
   "id": "bd28fc0a",
   "metadata": {},
   "outputs": [],
   "source": [
    "CREATE TABLE Users\n",
    "(\n",
    "  User_ID INT NOT NULL,\n",
    "  First_Name CHAR NOT NULL,\n",
    "  Last_Name CHAR NOT NULL,\n",
    "  User_Name VARCHAR(255) NOT NULL,\n",
    "  PRIMARY KEY (First_Name, Last_Name, User_Name)\n",
    ");"
   ]
  },
  {
   "cell_type": "code",
   "execution_count": null,
   "id": "d40ffc8a",
   "metadata": {},
   "outputs": [],
   "source": [
    "CREATE TABLE Movie_Metadata_Genres\n",
    "(\n",
    "  Genres CHAR NOT NULL,\n",
    "  IMDB_ID VARCHAR(255) NOT NULL,\n",
    "  PRIMARY KEY (Genres, IMDB_ID),\n",
    "  FOREIGN KEY (IMDB_ID) REFERENCES Movie_Metadata(IMDB_ID)\n",
    ");"
   ]
  },
  {
   "cell_type": "code",
   "execution_count": null,
   "id": "3f65fbc5",
   "metadata": {},
   "outputs": [],
   "source": [
    "CREATE TABLE Movie_Links\n",
    "(\n",
    "  Movie_ID INT NOT NULL,\n",
    "  TMDB_ID INT NOT NULL,\n",
    "  IMDB_ID VARCHAR(255) NOT NULL,\n",
    "  PRIMARY KEY (Movie_ID),\n",
    "  FOREIGN KEY (IMDB_ID) REFERENCES Movie_Metadata(IMDB_ID)\n",
    ");"
   ]
  },
  {
   "cell_type": "code",
   "execution_count": null,
   "id": "af8602b3",
   "metadata": {},
   "outputs": [],
   "source": [
    "CREATE TABLE Movie_Ratings\n",
    "(\n",
    "  Timestamp INT NOT NULL,\n",
    "  Ratings FLOAT NOT NULL,\n",
    "  User_ID INT NOT NULL,\n",
    "  Receipt INT NOT NULL,\n",
    "  Movie_ID INT NOT NULL,\n",
    "  PRIMARY KEY (Receipt),\n",
    "  FOREIGN KEY (Movie_ID) REFERENCES Movie_Links(Movie_ID)\n",
    ");"
   ]
  },
  {
   "cell_type": "code",
   "execution_count": null,
   "id": "8d6327f9",
   "metadata": {},
   "outputs": [],
   "source": [
    "CREATE TABLE Rates\n",
    "(\n",
    "  Receipt INT NOT NULL,\n",
    "  First_Name CHAR NOT NULL,\n",
    "  Last_Name CHAR NOT NULL,\n",
    "  User_Name VARCHAR(255) NOT NULL,\n",
    "  PRIMARY KEY (Receipt, First_Name, Last_Name, User_Name),\n",
    "  FOREIGN KEY (Receipt) REFERENCES Movie_Ratings(Receipt),\n",
    "  FOREIGN KEY (First_Name, Last_Name, User_Name) REFERENCES Users(First_Name, Last_Name, User_Name)\n",
    ");"
   ]
  },
  {
   "cell_type": "code",
   "execution_count": null,
   "id": "f080a0f0",
   "metadata": {},
   "outputs": [],
   "source": []
  },
  {
   "cell_type": "code",
   "execution_count": null,
   "id": "8d6f1fa4",
   "metadata": {},
   "outputs": [],
   "source": []
  }
 ],
 "metadata": {
  "kernelspec": {
   "display_name": "Python 3 (ipykernel)",
   "language": "python",
   "name": "python3"
  },
  "language_info": {
   "codemirror_mode": {
    "name": "ipython",
    "version": 3
   },
   "file_extension": ".py",
   "mimetype": "text/x-python",
   "name": "python",
   "nbconvert_exporter": "python",
   "pygments_lexer": "ipython3",
   "version": "3.9.17"
  }
 },
 "nbformat": 4,
 "nbformat_minor": 5
}
