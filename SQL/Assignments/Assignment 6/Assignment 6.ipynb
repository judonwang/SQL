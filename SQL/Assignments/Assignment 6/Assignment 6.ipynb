{
 "cells": [
  {
   "cell_type": "code",
   "execution_count": 1,
   "id": "5013c210",
   "metadata": {},
   "outputs": [],
   "source": [
    "import csv\n",
    "from DATA225utils import make_connection\n",
    "import pandas as pd\n",
    "import os\n",
    "from configparser import ConfigParser\n",
    "from mysql.connector import MySQLConnection"
   ]
  },
  {
   "cell_type": "code",
   "execution_count": 2,
   "id": "1d8a3757",
   "metadata": {},
   "outputs": [],
   "source": [
    "def read_config(config_file = 'config.ini', section = 'mysql'):\n",
    "    \"\"\"\n",
    "    Read a configuration file config_file and the given section. \n",
    "    If successful, return the configuration as a dictionary,\n",
    "    else raise an exception. \n",
    "    \"\"\"\n",
    "    parser = ConfigParser()\n",
    "    \n",
    "    # Does the configuration file exist?\n",
    "    if os.path.isfile(config_file):\n",
    "        parser.read(config_file)\n",
    "    else:\n",
    "        raise Exception(f\"Configuration file '{config_file}' \"\n",
    "                        \"doesn't exist.\")\n",
    "    \n",
    "    config = {}\n",
    "    \n",
    "    # Does it have the right section?\n",
    "    if parser.has_section(section):\n",
    "        \n",
    "        # Parse the configuration file.\n",
    "        items = parser.items(section)\n",
    "        \n",
    "        # Construct the parameter dictionary.\n",
    "        for item in items:\n",
    "            config[item[0]] = item[1]\n",
    "            \n",
    "    else:\n",
    "        raise Exception(f\"Section '{section}' missing \"\n",
    "                        f\"in configuration file '{config_file}'.\")\n",
    "    \n",
    "    return config"
   ]
  },
  {
   "cell_type": "code",
   "execution_count": 3,
   "id": "0d3d1d24",
   "metadata": {},
   "outputs": [
    {
     "data": {
      "text/plain": [
       "{'host': 'localhost',\n",
       " 'database': 'movies',\n",
       " 'user': 'root',\n",
       " 'password': 'seekrit'}"
      ]
     },
     "execution_count": 3,
     "metadata": {},
     "output_type": "execute_result"
    }
   ],
   "source": [
    "db_config = read_config('movies.ini')\n",
    "db_config"
   ]
  },
  {
   "cell_type": "code",
   "execution_count": 4,
   "id": "e248f75c",
   "metadata": {},
   "outputs": [],
   "source": [
    "def make_connection(config_file = 'config.ini', section = 'mysql'):\n",
    "    \"\"\"\n",
    "    Make a connection to a database with the configuration file\n",
    "    config_file and the given section. If successful, return \n",
    "    the connection, else raise an exception.\n",
    "    \"\"\"\n",
    "    try:\n",
    "        db_config = read_config(config_file, section)            \n",
    "        conn = MySQLConnection(**db_config)\n",
    "        \n",
    "        if conn.is_connected():\n",
    "            return conn\n",
    "                \n",
    "    except Error as e:\n",
    "        raise Exception(f'Connection failed.\\n{e}')"
   ]
  },
  {
   "cell_type": "code",
   "execution_count": 5,
   "id": "0582c325",
   "metadata": {},
   "outputs": [
    {
     "data": {
      "text/plain": [
       "<mysql.connector.connection.MySQLConnection at 0x1fac006dc10>"
      ]
     },
     "execution_count": 5,
     "metadata": {},
     "output_type": "execute_result"
    }
   ],
   "source": [
    "conn = make_connection('movies.ini')\n",
    "conn"
   ]
  },
  {
   "cell_type": "code",
   "execution_count": 6,
   "id": "e8552f6c",
   "metadata": {},
   "outputs": [
    {
     "data": {
      "text/plain": [
       "<mysql.connector.cursor.MySQLCursor at 0x1fabe8cbb50>"
      ]
     },
     "execution_count": 6,
     "metadata": {},
     "output_type": "execute_result"
    }
   ],
   "source": [
    "cursor = conn.cursor()\n",
    "cursor"
   ]
  },
  {
   "cell_type": "markdown",
   "id": "187f6298",
   "metadata": {},
   "source": [
    "# Question 1"
   ]
  },
  {
   "cell_type": "code",
   "execution_count": null,
   "id": "0bd681e6",
   "metadata": {},
   "outputs": [],
   "source": [
    "#Create and load a database table. Then write one or more INSERT INTO command\n",
    "#with an embedded SELECT to create one or more tables from the first table. Use CASE\n",
    "#with the SELECT to perform data transformation(s). Display the contents of the first table\n",
    "#and the newly created table(s)."
   ]
  },
  {
   "cell_type": "code",
   "execution_count": 8,
   "id": "85b68fb3",
   "metadata": {},
   "outputs": [],
   "source": [
    "cursor.execute('DROP TABLE IF EXISTS MM')\n",
    "\n",
    "sql = ( \"\"\"\n",
    "        CREATE TABLE MM\n",
    "        (\n",
    "          ReleaseDate DATE NOT NULL,\n",
    "          IMDB_ID VARCHAR(255) NOT NULL,\n",
    "          Original_Title VARCHAR(255) NOT NULL,\n",
    "          Budget CHAR(255) NOT NULL,\n",
    "          PRIMARY KEY (IMDB_ID)\n",
    "        )\n",
    "        \"\"\"\n",
    "      )\n",
    "\n",
    "cursor.execute(sql)"
   ]
  },
  {
   "cell_type": "code",
   "execution_count": 9,
   "id": "96a33e3c",
   "metadata": {},
   "outputs": [],
   "source": [
    "sql = (\"\"\"\n",
    "    INSERT INTO MM\n",
    "    SELECT ReleaseDate, IMDB_ID, Original_Title, \n",
    "        CASE \n",
    "            WHEN Budget < 6000000 THEN 'Low'\n",
    "            WHEN Budget > 6000000 THEN 'High'\n",
    "            ELSE 'Right-Amount'\n",
    "        END AS Budget\n",
    "    FROM Movie_Metadata\n",
    "    WHERE ReleaseDate > '1995-07-18'\n",
    "\n",
    "    \"\"\")\n",
    "\n",
    "cursor.execute(sql)\n",
    "conn.commit()"
   ]
  },
  {
   "cell_type": "markdown",
   "id": "7cb31639",
   "metadata": {},
   "source": [
    "### Here we classified budget as Low: if less than 6000000 dollars, High: if more than 6000000 dollars, and Right-Amount: exactly 6000000 dollars."
   ]
  },
  {
   "cell_type": "code",
   "execution_count": 11,
   "id": "7b32e79e",
   "metadata": {},
   "outputs": [
    {
     "data": {
      "text/html": [
       "<div>\n",
       "<style scoped>\n",
       "    .dataframe tbody tr th:only-of-type {\n",
       "        vertical-align: middle;\n",
       "    }\n",
       "\n",
       "    .dataframe tbody tr th {\n",
       "        vertical-align: top;\n",
       "    }\n",
       "\n",
       "    .dataframe thead th {\n",
       "        text-align: right;\n",
       "    }\n",
       "</style>\n",
       "<table border=\"1\" class=\"dataframe\">\n",
       "  <thead>\n",
       "    <tr style=\"text-align: right;\">\n",
       "      <th></th>\n",
       "      <th>Release_Date</th>\n",
       "      <th>IMDB_ID</th>\n",
       "      <th>Original_Title</th>\n",
       "      <th>Budget</th>\n",
       "    </tr>\n",
       "  </thead>\n",
       "  <tbody>\n",
       "    <tr>\n",
       "      <th>0</th>\n",
       "      <td>1995-11-16</td>\n",
       "      <td>tt0113189</td>\n",
       "      <td>GoldenEye</td>\n",
       "      <td>High</td>\n",
       "    </tr>\n",
       "    <tr>\n",
       "      <th>1</th>\n",
       "      <td>1995-10-27</td>\n",
       "      <td>tt0113627</td>\n",
       "      <td>Leaving Las Vegas</td>\n",
       "      <td>Low</td>\n",
       "    </tr>\n",
       "    <tr>\n",
       "      <th>2</th>\n",
       "      <td>1995-09-22</td>\n",
       "      <td>tt0114369</td>\n",
       "      <td>Se7en</td>\n",
       "      <td>High</td>\n",
       "    </tr>\n",
       "    <tr>\n",
       "      <th>3</th>\n",
       "      <td>1995-10-30</td>\n",
       "      <td>tt0114709</td>\n",
       "      <td>Toy Story</td>\n",
       "      <td>High</td>\n",
       "    </tr>\n",
       "    <tr>\n",
       "      <th>4</th>\n",
       "      <td>1995-07-19</td>\n",
       "      <td>tt0114814</td>\n",
       "      <td>The Usual Suspects</td>\n",
       "      <td>Right-Amount</td>\n",
       "    </tr>\n",
       "  </tbody>\n",
       "</table>\n",
       "</div>"
      ],
      "text/plain": [
       "  Release_Date    IMDB_ID      Original_Title        Budget\n",
       "0   1995-11-16  tt0113189           GoldenEye          High\n",
       "1   1995-10-27  tt0113627   Leaving Las Vegas           Low\n",
       "2   1995-09-22  tt0114369               Se7en          High\n",
       "3   1995-10-30  tt0114709           Toy Story          High\n",
       "4   1995-07-19  tt0114814  The Usual Suspects  Right-Amount"
      ]
     },
     "metadata": {},
     "output_type": "display_data"
    }
   ],
   "source": [
    "select_vendor = (\"\"\"\n",
    "                 SELECT * FROM MM\n",
    "                 \"\"\"\n",
    "                  )\n",
    "cursor.execute(select_vendor)\n",
    "df1 = pd.DataFrame(cursor.fetchall(), columns = ['Release_Date', 'IMDB_ID', 'Original_Title', 'Budget'])\n",
    "display(df1)"
   ]
  },
  {
   "cell_type": "markdown",
   "id": "2f98e150",
   "metadata": {},
   "source": [
    "# Question 2"
   ]
  },
  {
   "cell_type": "code",
   "execution_count": 12,
   "id": "1a9b12a9",
   "metadata": {},
   "outputs": [],
   "source": [
    "#Use one or more aggregate functions with GROUP BY. Explain in a sentence or two what\n",
    "#the nested query is supposed to do and display the result."
   ]
  },
  {
   "cell_type": "markdown",
   "id": "8346a963",
   "metadata": {},
   "source": [
    "### This aggregate function gives the frequency for every category inside the MM table for the Budget."
   ]
  },
  {
   "cell_type": "code",
   "execution_count": 13,
   "id": "ec96fb67",
   "metadata": {},
   "outputs": [
    {
     "data": {
      "text/html": [
       "<div>\n",
       "<style scoped>\n",
       "    .dataframe tbody tr th:only-of-type {\n",
       "        vertical-align: middle;\n",
       "    }\n",
       "\n",
       "    .dataframe tbody tr th {\n",
       "        vertical-align: top;\n",
       "    }\n",
       "\n",
       "    .dataframe thead th {\n",
       "        text-align: right;\n",
       "    }\n",
       "</style>\n",
       "<table border=\"1\" class=\"dataframe\">\n",
       "  <thead>\n",
       "    <tr style=\"text-align: right;\">\n",
       "      <th></th>\n",
       "      <th>Category</th>\n",
       "      <th>Count</th>\n",
       "    </tr>\n",
       "  </thead>\n",
       "  <tbody>\n",
       "    <tr>\n",
       "      <th>0</th>\n",
       "      <td>High</td>\n",
       "      <td>3</td>\n",
       "    </tr>\n",
       "    <tr>\n",
       "      <th>1</th>\n",
       "      <td>Low</td>\n",
       "      <td>1</td>\n",
       "    </tr>\n",
       "    <tr>\n",
       "      <th>2</th>\n",
       "      <td>Right-Amount</td>\n",
       "      <td>1</td>\n",
       "    </tr>\n",
       "  </tbody>\n",
       "</table>\n",
       "</div>"
      ],
      "text/plain": [
       "       Category  Count\n",
       "0          High      3\n",
       "1           Low      1\n",
       "2  Right-Amount      1"
      ]
     },
     "metadata": {},
     "output_type": "display_data"
    }
   ],
   "source": [
    "sql2 =  (\"\"\"\n",
    "        SELECT Budget, COUNT(*)\n",
    "        FROM MM\n",
    "        GROUP BY Budget\n",
    "        \"\"\")\n",
    "\n",
    "cursor.execute(sql2)\n",
    "rows = cursor.fetchall()\n",
    "df2 = pd.DataFrame(rows, columns=['Category', 'Count'])\n",
    "display(df2)"
   ]
  },
  {
   "cell_type": "markdown",
   "id": "d0a57656",
   "metadata": {},
   "source": [
    "# Question 3"
   ]
  },
  {
   "cell_type": "code",
   "execution_count": 14,
   "id": "19cca916",
   "metadata": {},
   "outputs": [],
   "source": [
    "#Use one or more aggregate functions with GROUP BY HAVING. Explain in a sentence or\n",
    "#two what the nested query is supposed to do and display the result."
   ]
  },
  {
   "cell_type": "markdown",
   "id": "799a97b2",
   "metadata": {},
   "source": [
    "### This aggregate function shows the frequency for every category with only 1 count."
   ]
  },
  {
   "cell_type": "code",
   "execution_count": 15,
   "id": "7182c929",
   "metadata": {},
   "outputs": [
    {
     "data": {
      "text/html": [
       "<div>\n",
       "<style scoped>\n",
       "    .dataframe tbody tr th:only-of-type {\n",
       "        vertical-align: middle;\n",
       "    }\n",
       "\n",
       "    .dataframe tbody tr th {\n",
       "        vertical-align: top;\n",
       "    }\n",
       "\n",
       "    .dataframe thead th {\n",
       "        text-align: right;\n",
       "    }\n",
       "</style>\n",
       "<table border=\"1\" class=\"dataframe\">\n",
       "  <thead>\n",
       "    <tr style=\"text-align: right;\">\n",
       "      <th></th>\n",
       "      <th>Category</th>\n",
       "      <th>Count</th>\n",
       "    </tr>\n",
       "  </thead>\n",
       "  <tbody>\n",
       "    <tr>\n",
       "      <th>0</th>\n",
       "      <td>Low</td>\n",
       "      <td>1</td>\n",
       "    </tr>\n",
       "    <tr>\n",
       "      <th>1</th>\n",
       "      <td>Right-Amount</td>\n",
       "      <td>1</td>\n",
       "    </tr>\n",
       "  </tbody>\n",
       "</table>\n",
       "</div>"
      ],
      "text/plain": [
       "       Category  Count\n",
       "0           Low      1\n",
       "1  Right-Amount      1"
      ]
     },
     "metadata": {},
     "output_type": "display_data"
    }
   ],
   "source": [
    "sql3 = (\"\"\"\n",
    "                 SELECT Budget, COUNT(*)\n",
    "                 FROM MM\n",
    "                 GROUP BY Budget\n",
    "                 HAVING COUNT(*) = 1\n",
    "                \n",
    "                 \"\"\"\n",
    "                  )\n",
    "cursor.execute(sql3)\n",
    "df1 = pd.DataFrame(cursor.fetchall(), columns = ['Category', 'Count'])\n",
    "display(df1)"
   ]
  },
  {
   "cell_type": "markdown",
   "id": "60d7c313",
   "metadata": {},
   "source": [
    "# Question 4"
   ]
  },
  {
   "cell_type": "code",
   "execution_count": 16,
   "id": "36ff9631",
   "metadata": {},
   "outputs": [],
   "source": [
    "#Write a SELECT query with a nested SELECT. Explain in a sentence or two what the\n",
    "#nested query is supposed to do and display the result."
   ]
  },
  {
   "cell_type": "markdown",
   "id": "44efd0a7",
   "metadata": {},
   "source": [
    "### This query selects the IMDB_ID and Homepage from movie_metadata where the Budget from mm is High"
   ]
  },
  {
   "cell_type": "code",
   "execution_count": 17,
   "id": "1e01c33e",
   "metadata": {},
   "outputs": [
    {
     "data": {
      "text/html": [
       "<div>\n",
       "<style scoped>\n",
       "    .dataframe tbody tr th:only-of-type {\n",
       "        vertical-align: middle;\n",
       "    }\n",
       "\n",
       "    .dataframe tbody tr th {\n",
       "        vertical-align: top;\n",
       "    }\n",
       "\n",
       "    .dataframe thead th {\n",
       "        text-align: right;\n",
       "    }\n",
       "</style>\n",
       "<table border=\"1\" class=\"dataframe\">\n",
       "  <thead>\n",
       "    <tr style=\"text-align: right;\">\n",
       "      <th></th>\n",
       "      <th>IMDB_ID</th>\n",
       "      <th>Homepage</th>\n",
       "    </tr>\n",
       "  </thead>\n",
       "  <tbody>\n",
       "    <tr>\n",
       "      <th>0</th>\n",
       "      <td>tt0113189</td>\n",
       "      <td>http://www.mgm.com/view/movie/757/Goldeneye/</td>\n",
       "    </tr>\n",
       "    <tr>\n",
       "      <th>1</th>\n",
       "      <td>tt0114369</td>\n",
       "      <td>http://www.sevenmovie.com/</td>\n",
       "    </tr>\n",
       "    <tr>\n",
       "      <th>2</th>\n",
       "      <td>tt0114709</td>\n",
       "      <td>http://toystory.disney.com/toy-story</td>\n",
       "    </tr>\n",
       "  </tbody>\n",
       "</table>\n",
       "</div>"
      ],
      "text/plain": [
       "     IMDB_ID                                      Homepage\n",
       "0  tt0113189  http://www.mgm.com/view/movie/757/Goldeneye/\n",
       "1  tt0114369                    http://www.sevenmovie.com/\n",
       "2  tt0114709          http://toystory.disney.com/toy-story"
      ]
     },
     "metadata": {},
     "output_type": "display_data"
    }
   ],
   "source": [
    "sql4 = (\"\"\"\n",
    "                 SELECT IMDB_ID, Homepage\n",
    "                 FROM movie_metadata\n",
    "                 WHERE IMDB_ID IN (SELECT IMDB_ID\n",
    "                                   FROM mm\n",
    "                                   WHERE Budget = 'High')\n",
    "                 \"\"\"\n",
    "                  )\n",
    "cursor.execute(sql4)\n",
    "df1 = pd.DataFrame(cursor.fetchall(), columns = ['IMDB_ID', 'Homepage'])\n",
    "display(df1)\n"
   ]
  },
  {
   "cell_type": "markdown",
   "id": "44502688",
   "metadata": {},
   "source": [
    "# Question 5"
   ]
  },
  {
   "cell_type": "code",
   "execution_count": 18,
   "id": "05bd63f4",
   "metadata": {},
   "outputs": [],
   "source": [
    "# Perform a left outer join between two tables and display the result."
   ]
  },
  {
   "cell_type": "markdown",
   "id": "74b69597",
   "metadata": {},
   "source": [
    "### This displays the first name, last name, user name, the rating the user gave, and the movie id of the rating using left outer join."
   ]
  },
  {
   "cell_type": "code",
   "execution_count": 19,
   "id": "f22dc176",
   "metadata": {},
   "outputs": [
    {
     "data": {
      "text/html": [
       "<div>\n",
       "<style scoped>\n",
       "    .dataframe tbody tr th:only-of-type {\n",
       "        vertical-align: middle;\n",
       "    }\n",
       "\n",
       "    .dataframe tbody tr th {\n",
       "        vertical-align: top;\n",
       "    }\n",
       "\n",
       "    .dataframe thead th {\n",
       "        text-align: right;\n",
       "    }\n",
       "</style>\n",
       "<table border=\"1\" class=\"dataframe\">\n",
       "  <thead>\n",
       "    <tr style=\"text-align: right;\">\n",
       "      <th></th>\n",
       "      <th>First Name</th>\n",
       "      <th>Last Name</th>\n",
       "      <th>User Name</th>\n",
       "      <th>Rating</th>\n",
       "      <th>Movie ID</th>\n",
       "    </tr>\n",
       "  </thead>\n",
       "  <tbody>\n",
       "    <tr>\n",
       "      <th>0</th>\n",
       "      <td>F</td>\n",
       "      <td>L</td>\n",
       "      <td>U</td>\n",
       "      <td>NaN</td>\n",
       "      <td>NaN</td>\n",
       "    </tr>\n",
       "    <tr>\n",
       "      <th>1</th>\n",
       "      <td>Joseph</td>\n",
       "      <td>Chang</td>\n",
       "      <td>joseph123</td>\n",
       "      <td>6.5</td>\n",
       "      <td>1.0</td>\n",
       "    </tr>\n",
       "    <tr>\n",
       "      <th>2</th>\n",
       "      <td>Justin</td>\n",
       "      <td>Wang</td>\n",
       "      <td>justinw002</td>\n",
       "      <td>8.0</td>\n",
       "      <td>47.0</td>\n",
       "    </tr>\n",
       "    <tr>\n",
       "      <th>3</th>\n",
       "      <td>Ron</td>\n",
       "      <td>Mak</td>\n",
       "      <td>ronmak145</td>\n",
       "      <td>9.5</td>\n",
       "      <td>50.0</td>\n",
       "    </tr>\n",
       "    <tr>\n",
       "      <th>4</th>\n",
       "      <td>Satyaprakash</td>\n",
       "      <td>Mishra</td>\n",
       "      <td>sp17mishra</td>\n",
       "      <td>6.0</td>\n",
       "      <td>25.0</td>\n",
       "    </tr>\n",
       "    <tr>\n",
       "      <th>5</th>\n",
       "      <td>Shrey</td>\n",
       "      <td>Jain</td>\n",
       "      <td>shrey01</td>\n",
       "      <td>5.5</td>\n",
       "      <td>10.0</td>\n",
       "    </tr>\n",
       "  </tbody>\n",
       "</table>\n",
       "</div>"
      ],
      "text/plain": [
       "     First Name Last Name   User Name  Rating  Movie ID\n",
       "0             F         L           U     NaN       NaN\n",
       "1        Joseph     Chang   joseph123     6.5       1.0\n",
       "2        Justin      Wang  justinw002     8.0      47.0\n",
       "3           Ron       Mak   ronmak145     9.5      50.0\n",
       "4  Satyaprakash    Mishra  sp17mishra     6.0      25.0\n",
       "5         Shrey      Jain     shrey01     5.5      10.0"
      ]
     },
     "metadata": {},
     "output_type": "display_data"
    }
   ],
   "source": [
    "sql5 = (\"\"\"\n",
    "         SELECT u.First_Name, u.Last_Name, u.User_Name, r.Ratings, r.Movie_ID\n",
    "         FROM Users u\n",
    "         LEFT OUTER JOIN movie_ratings r on r.User_ID = u.User_ID\n",
    "        \"\"\"\n",
    "        )\n",
    "cursor.execute(sql5)\n",
    "df1 = pd.DataFrame(cursor.fetchall(), columns=['First Name', 'Last Name', 'User Name', 'Rating', 'Movie ID'])\n",
    "display(df1)\n"
   ]
  },
  {
   "cell_type": "markdown",
   "id": "47fb9f91",
   "metadata": {},
   "source": [
    "# Question 6"
   ]
  },
  {
   "cell_type": "code",
   "execution_count": 20,
   "id": "9bb06e8e",
   "metadata": {},
   "outputs": [],
   "source": [
    "# Perform a right outer join between two tables and display the result."
   ]
  },
  {
   "cell_type": "markdown",
   "id": "de3187bb",
   "metadata": {},
   "source": [
    "### This displays all from Users right outer joined with movie ratings"
   ]
  },
  {
   "cell_type": "code",
   "execution_count": 27,
   "id": "6d3c0de4",
   "metadata": {},
   "outputs": [
    {
     "data": {
      "text/html": [
       "<div>\n",
       "<style scoped>\n",
       "    .dataframe tbody tr th:only-of-type {\n",
       "        vertical-align: middle;\n",
       "    }\n",
       "\n",
       "    .dataframe tbody tr th {\n",
       "        vertical-align: top;\n",
       "    }\n",
       "\n",
       "    .dataframe thead th {\n",
       "        text-align: right;\n",
       "    }\n",
       "</style>\n",
       "<table border=\"1\" class=\"dataframe\">\n",
       "  <thead>\n",
       "    <tr style=\"text-align: right;\">\n",
       "      <th></th>\n",
       "      <th>User ID</th>\n",
       "      <th>First Name</th>\n",
       "      <th>Last Name</th>\n",
       "      <th>User Name</th>\n",
       "      <th>Timestamp</th>\n",
       "      <th>Rating</th>\n",
       "      <th>User ID</th>\n",
       "      <th>Receipt</th>\n",
       "      <th>Movie ID</th>\n",
       "    </tr>\n",
       "  </thead>\n",
       "  <tbody>\n",
       "    <tr>\n",
       "      <th>0</th>\n",
       "      <td>111</td>\n",
       "      <td>Joseph</td>\n",
       "      <td>Chang</td>\n",
       "      <td>joseph123</td>\n",
       "      <td>1425941529</td>\n",
       "      <td>6.5</td>\n",
       "      <td>111</td>\n",
       "      <td>1</td>\n",
       "      <td>1</td>\n",
       "    </tr>\n",
       "    <tr>\n",
       "      <th>1</th>\n",
       "      <td>222</td>\n",
       "      <td>Shrey</td>\n",
       "      <td>Jain</td>\n",
       "      <td>shrey01</td>\n",
       "      <td>1425942435</td>\n",
       "      <td>5.5</td>\n",
       "      <td>222</td>\n",
       "      <td>2</td>\n",
       "      <td>10</td>\n",
       "    </tr>\n",
       "    <tr>\n",
       "      <th>2</th>\n",
       "      <td>333</td>\n",
       "      <td>Satyaprakash</td>\n",
       "      <td>Mishra</td>\n",
       "      <td>sp17mishra</td>\n",
       "      <td>1425941300</td>\n",
       "      <td>6.0</td>\n",
       "      <td>333</td>\n",
       "      <td>3</td>\n",
       "      <td>25</td>\n",
       "    </tr>\n",
       "    <tr>\n",
       "      <th>3</th>\n",
       "      <td>444</td>\n",
       "      <td>Justin</td>\n",
       "      <td>Wang</td>\n",
       "      <td>justinw002</td>\n",
       "      <td>1425942007</td>\n",
       "      <td>8.0</td>\n",
       "      <td>444</td>\n",
       "      <td>4</td>\n",
       "      <td>47</td>\n",
       "    </tr>\n",
       "    <tr>\n",
       "      <th>4</th>\n",
       "      <td>555</td>\n",
       "      <td>Ron</td>\n",
       "      <td>Mak</td>\n",
       "      <td>ronmak145</td>\n",
       "      <td>1425942139</td>\n",
       "      <td>9.5</td>\n",
       "      <td>555</td>\n",
       "      <td>5</td>\n",
       "      <td>50</td>\n",
       "    </tr>\n",
       "  </tbody>\n",
       "</table>\n",
       "</div>"
      ],
      "text/plain": [
       "   User ID    First Name Last Name   User Name   Timestamp  Rating  User ID  \\\n",
       "0      111        Joseph     Chang   joseph123  1425941529     6.5      111   \n",
       "1      222         Shrey      Jain     shrey01  1425942435     5.5      222   \n",
       "2      333  Satyaprakash    Mishra  sp17mishra  1425941300     6.0      333   \n",
       "3      444        Justin      Wang  justinw002  1425942007     8.0      444   \n",
       "4      555           Ron       Mak   ronmak145  1425942139     9.5      555   \n",
       "\n",
       "   Receipt  Movie ID  \n",
       "0        1         1  \n",
       "1        2        10  \n",
       "2        3        25  \n",
       "3        4        47  \n",
       "4        5        50  "
      ]
     },
     "metadata": {},
     "output_type": "display_data"
    }
   ],
   "source": [
    "sql6 = (\"\"\"\n",
    "         SELECT *\n",
    "         FROM Users u\n",
    "         RIGHT OUTER JOIN movie_ratings r on r.User_ID = u.User_ID        \n",
    "        \"\"\"\n",
    "        )\n",
    "cursor.execute(sql6)\n",
    "df1 = pd.DataFrame(cursor.fetchall(), columns=['User ID', 'First Name', 'Last Name', 'User Name', 'Timestamp', 'Rating', 'User ID', 'Receipt', 'Movie ID'])\n",
    "display(df1)\n"
   ]
  },
  {
   "cell_type": "markdown",
   "id": "f2f2a431",
   "metadata": {},
   "source": [
    "# Question 7"
   ]
  },
  {
   "cell_type": "code",
   "execution_count": 22,
   "id": "984238e1",
   "metadata": {},
   "outputs": [],
   "source": [
    "# Perform a full outer join between two tables and display the result."
   ]
  },
  {
   "cell_type": "markdown",
   "id": "2c9b1b8e",
   "metadata": {},
   "source": [
    "### This is a full outer join of users and movie ratings. Created by unioning left and right outer joins."
   ]
  },
  {
   "cell_type": "code",
   "execution_count": 29,
   "id": "8b5ee6a8",
   "metadata": {},
   "outputs": [
    {
     "data": {
      "text/html": [
       "<div>\n",
       "<style scoped>\n",
       "    .dataframe tbody tr th:only-of-type {\n",
       "        vertical-align: middle;\n",
       "    }\n",
       "\n",
       "    .dataframe tbody tr th {\n",
       "        vertical-align: top;\n",
       "    }\n",
       "\n",
       "    .dataframe thead th {\n",
       "        text-align: right;\n",
       "    }\n",
       "</style>\n",
       "<table border=\"1\" class=\"dataframe\">\n",
       "  <thead>\n",
       "    <tr style=\"text-align: right;\">\n",
       "      <th></th>\n",
       "      <th>User ID</th>\n",
       "      <th>First Name</th>\n",
       "      <th>Last Name</th>\n",
       "      <th>User Name</th>\n",
       "      <th>Timestmap</th>\n",
       "      <th>Rating</th>\n",
       "      <th>User ID</th>\n",
       "      <th>Receipt</th>\n",
       "      <th>Movie ID</th>\n",
       "    </tr>\n",
       "  </thead>\n",
       "  <tbody>\n",
       "    <tr>\n",
       "      <th>0</th>\n",
       "      <td>777</td>\n",
       "      <td>F</td>\n",
       "      <td>L</td>\n",
       "      <td>U</td>\n",
       "      <td>NaN</td>\n",
       "      <td>NaN</td>\n",
       "      <td>NaN</td>\n",
       "      <td>NaN</td>\n",
       "      <td>NaN</td>\n",
       "    </tr>\n",
       "    <tr>\n",
       "      <th>1</th>\n",
       "      <td>111</td>\n",
       "      <td>Joseph</td>\n",
       "      <td>Chang</td>\n",
       "      <td>joseph123</td>\n",
       "      <td>1.425942e+09</td>\n",
       "      <td>6.5</td>\n",
       "      <td>111.0</td>\n",
       "      <td>1.0</td>\n",
       "      <td>1.0</td>\n",
       "    </tr>\n",
       "    <tr>\n",
       "      <th>2</th>\n",
       "      <td>444</td>\n",
       "      <td>Justin</td>\n",
       "      <td>Wang</td>\n",
       "      <td>justinw002</td>\n",
       "      <td>1.425942e+09</td>\n",
       "      <td>8.0</td>\n",
       "      <td>444.0</td>\n",
       "      <td>4.0</td>\n",
       "      <td>47.0</td>\n",
       "    </tr>\n",
       "    <tr>\n",
       "      <th>3</th>\n",
       "      <td>555</td>\n",
       "      <td>Ron</td>\n",
       "      <td>Mak</td>\n",
       "      <td>ronmak145</td>\n",
       "      <td>1.425942e+09</td>\n",
       "      <td>9.5</td>\n",
       "      <td>555.0</td>\n",
       "      <td>5.0</td>\n",
       "      <td>50.0</td>\n",
       "    </tr>\n",
       "    <tr>\n",
       "      <th>4</th>\n",
       "      <td>333</td>\n",
       "      <td>Satyaprakash</td>\n",
       "      <td>Mishra</td>\n",
       "      <td>sp17mishra</td>\n",
       "      <td>1.425941e+09</td>\n",
       "      <td>6.0</td>\n",
       "      <td>333.0</td>\n",
       "      <td>3.0</td>\n",
       "      <td>25.0</td>\n",
       "    </tr>\n",
       "    <tr>\n",
       "      <th>5</th>\n",
       "      <td>222</td>\n",
       "      <td>Shrey</td>\n",
       "      <td>Jain</td>\n",
       "      <td>shrey01</td>\n",
       "      <td>1.425942e+09</td>\n",
       "      <td>5.5</td>\n",
       "      <td>222.0</td>\n",
       "      <td>2.0</td>\n",
       "      <td>10.0</td>\n",
       "    </tr>\n",
       "  </tbody>\n",
       "</table>\n",
       "</div>"
      ],
      "text/plain": [
       "   User ID    First Name Last Name   User Name     Timestmap  Rating  User ID  \\\n",
       "0      777             F         L           U           NaN     NaN      NaN   \n",
       "1      111        Joseph     Chang   joseph123  1.425942e+09     6.5    111.0   \n",
       "2      444        Justin      Wang  justinw002  1.425942e+09     8.0    444.0   \n",
       "3      555           Ron       Mak   ronmak145  1.425942e+09     9.5    555.0   \n",
       "4      333  Satyaprakash    Mishra  sp17mishra  1.425941e+09     6.0    333.0   \n",
       "5      222         Shrey      Jain     shrey01  1.425942e+09     5.5    222.0   \n",
       "\n",
       "   Receipt  Movie ID  \n",
       "0      NaN       NaN  \n",
       "1      1.0       1.0  \n",
       "2      4.0      47.0  \n",
       "3      5.0      50.0  \n",
       "4      3.0      25.0  \n",
       "5      2.0      10.0  "
      ]
     },
     "metadata": {},
     "output_type": "display_data"
    }
   ],
   "source": [
    "# given query\n",
    "sql7 = (\"\"\"\n",
    "         SELECT *\n",
    "         FROM Users u\n",
    "         LEFT OUTER JOIN movie_ratings r on r.User_ID = u.User_ID\n",
    "         UNION\n",
    "         SELECT *\n",
    "         FROM Users u\n",
    "         RIGHT OUTER JOIN movie_ratings r on r.User_ID = u.User_ID            \n",
    "        \"\"\"\n",
    "        )\n",
    "cursor.execute(sql7)\n",
    "df1 = pd.DataFrame(cursor.fetchall(),columns=['User ID', 'First Name', 'Last Name', 'User Name', 'Timestmap', 'Rating', 'User ID', 'Receipt','Movie ID'])\n",
    "display(df1)\n"
   ]
  },
  {
   "cell_type": "markdown",
   "id": "ed94078b",
   "metadata": {},
   "source": [
    "# Question 8"
   ]
  },
  {
   "cell_type": "code",
   "execution_count": 24,
   "id": "1a7037c8",
   "metadata": {},
   "outputs": [],
   "source": [
    "# Create a view and display its contents. Use the view in a join with other table(s) and display the result."
   ]
  },
  {
   "cell_type": "markdown",
   "id": "f5ce0bdf",
   "metadata": {},
   "source": [
    "### Creates a view on movie_metadata_genres where genres = Drama\n",
    "### Performs a left outer join on movie_links and the view on IMDB_ID"
   ]
  },
  {
   "cell_type": "code",
   "execution_count": 34,
   "id": "eb5c5769",
   "metadata": {},
   "outputs": [
    {
     "data": {
      "text/html": [
       "<div>\n",
       "<style scoped>\n",
       "    .dataframe tbody tr th:only-of-type {\n",
       "        vertical-align: middle;\n",
       "    }\n",
       "\n",
       "    .dataframe tbody tr th {\n",
       "        vertical-align: top;\n",
       "    }\n",
       "\n",
       "    .dataframe thead th {\n",
       "        text-align: right;\n",
       "    }\n",
       "</style>\n",
       "<table border=\"1\" class=\"dataframe\">\n",
       "  <thead>\n",
       "    <tr style=\"text-align: right;\">\n",
       "      <th></th>\n",
       "      <th>Genre</th>\n",
       "      <th>IMDB ID</th>\n",
       "    </tr>\n",
       "  </thead>\n",
       "  <tbody>\n",
       "    <tr>\n",
       "      <th>0</th>\n",
       "      <td>Drama</td>\n",
       "      <td>tt0113627</td>\n",
       "    </tr>\n",
       "    <tr>\n",
       "      <th>1</th>\n",
       "      <td>Drama</td>\n",
       "      <td>tt0114814</td>\n",
       "    </tr>\n",
       "  </tbody>\n",
       "</table>\n",
       "</div>"
      ],
      "text/plain": [
       "   Genre    IMDB ID\n",
       "0  Drama  tt0113627\n",
       "1  Drama  tt0114814"
      ]
     },
     "metadata": {},
     "output_type": "display_data"
    },
    {
     "data": {
      "text/html": [
       "<div>\n",
       "<style scoped>\n",
       "    .dataframe tbody tr th:only-of-type {\n",
       "        vertical-align: middle;\n",
       "    }\n",
       "\n",
       "    .dataframe tbody tr th {\n",
       "        vertical-align: top;\n",
       "    }\n",
       "\n",
       "    .dataframe thead th {\n",
       "        text-align: right;\n",
       "    }\n",
       "</style>\n",
       "<table border=\"1\" class=\"dataframe\">\n",
       "  <thead>\n",
       "    <tr style=\"text-align: right;\">\n",
       "      <th></th>\n",
       "      <th>Movie ID</th>\n",
       "      <th>TMDB ID</th>\n",
       "      <th>IMDB ID</th>\n",
       "      <th>Genre</th>\n",
       "      <th>IMDB ID</th>\n",
       "    </tr>\n",
       "  </thead>\n",
       "  <tbody>\n",
       "    <tr>\n",
       "      <th>0</th>\n",
       "      <td>1</td>\n",
       "      <td>862</td>\n",
       "      <td>tt0114709</td>\n",
       "      <td>None</td>\n",
       "      <td>None</td>\n",
       "    </tr>\n",
       "    <tr>\n",
       "      <th>1</th>\n",
       "      <td>10</td>\n",
       "      <td>710</td>\n",
       "      <td>tt0113189</td>\n",
       "      <td>None</td>\n",
       "      <td>None</td>\n",
       "    </tr>\n",
       "    <tr>\n",
       "      <th>2</th>\n",
       "      <td>25</td>\n",
       "      <td>451</td>\n",
       "      <td>tt0113627</td>\n",
       "      <td>Drama</td>\n",
       "      <td>tt0113627</td>\n",
       "    </tr>\n",
       "    <tr>\n",
       "      <th>3</th>\n",
       "      <td>47</td>\n",
       "      <td>807</td>\n",
       "      <td>tt0114369</td>\n",
       "      <td>None</td>\n",
       "      <td>None</td>\n",
       "    </tr>\n",
       "    <tr>\n",
       "      <th>4</th>\n",
       "      <td>50</td>\n",
       "      <td>629</td>\n",
       "      <td>tt0114814</td>\n",
       "      <td>Drama</td>\n",
       "      <td>tt0114814</td>\n",
       "    </tr>\n",
       "  </tbody>\n",
       "</table>\n",
       "</div>"
      ],
      "text/plain": [
       "   Movie ID  TMDB ID    IMDB ID  Genre    IMDB ID\n",
       "0         1      862  tt0114709   None       None\n",
       "1        10      710  tt0113189   None       None\n",
       "2        25      451  tt0113627  Drama  tt0113627\n",
       "3        47      807  tt0114369   None       None\n",
       "4        50      629  tt0114814  Drama  tt0114814"
      ]
     },
     "metadata": {},
     "output_type": "display_data"
    }
   ],
   "source": [
    "# given query\n",
    "cursor.execute(\"DROP VIEW IF EXISTS genres\")\n",
    "sql8 = (\"\"\"\n",
    "        CREATE VIEW genres AS\n",
    "        SELECT *\n",
    "        FROM movie_metadata_genres\n",
    "        WHERE Genres = 'Drama'\n",
    "         \"\"\"\n",
    "        )\n",
    "cursor.execute(sql8)\n",
    "sql81 = (\"\"\"\n",
    "        SELECT * from genres\n",
    "        \"\"\")\n",
    "cursor.execute(sql81)\n",
    "df1 = pd.DataFrame(cursor.fetchall(), columns=['Genre', 'IMDB ID'])\n",
    "display(df1)\n",
    "\n",
    "sql8join = (\"\"\"\n",
    "            SELECT * \n",
    "            FROM movie_links m\n",
    "            LEFT OUTER JOIN genres on m.IMDB_ID = genres.IMDB_ID\n",
    "            \"\"\")\n",
    "cursor.execute(sql8join)\n",
    "df1 = pd.DataFrame(cursor.fetchall(), columns=['Movie ID', 'TMDB ID','IMDB ID', 'Genre', 'IMDB ID'])\n",
    "display(df1)"
   ]
  }
 ],
 "metadata": {
  "kernelspec": {
   "display_name": "Python 3 (ipykernel)",
   "language": "python",
   "name": "python3"
  },
  "language_info": {
   "codemirror_mode": {
    "name": "ipython",
    "version": 3
   },
   "file_extension": ".py",
   "mimetype": "text/x-python",
   "name": "python",
   "nbconvert_exporter": "python",
   "pygments_lexer": "ipython3",
   "version": "3.11.4"
  }
 },
 "nbformat": 4,
 "nbformat_minor": 5
}
