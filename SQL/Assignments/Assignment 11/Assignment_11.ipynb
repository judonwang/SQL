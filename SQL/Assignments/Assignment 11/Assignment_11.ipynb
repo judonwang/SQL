{
 "cells": [
  {
   "cell_type": "code",
   "execution_count": 1,
   "id": "326e82e2",
   "metadata": {},
   "outputs": [],
   "source": [
    "import pymongo\n",
    "from pymongo import MongoClient\n",
    "import pandas as pd"
   ]
  },
  {
   "cell_type": "markdown",
   "id": "8c5d9530",
   "metadata": {},
   "source": [
    "## Connection to the mongo file"
   ]
  },
  {
   "cell_type": "code",
   "execution_count": 2,
   "id": "033d19b6",
   "metadata": {},
   "outputs": [],
   "source": [
    "client = pymongo.MongoClient(\"mongodb://localhost:27017/\")\n"
   ]
  },
  {
   "cell_type": "code",
   "execution_count": 3,
   "id": "b2713ec9",
   "metadata": {},
   "outputs": [],
   "source": [
    "client.drop_database('movies_database')"
   ]
  },
  {
   "cell_type": "code",
   "execution_count": 4,
   "id": "d851a394",
   "metadata": {},
   "outputs": [],
   "source": [
    "db = client[\"movies_database\"]"
   ]
  },
  {
   "cell_type": "markdown",
   "id": "e4aa2c72",
   "metadata": {},
   "source": [
    "## Movies Collection"
   ]
  },
  {
   "cell_type": "code",
   "execution_count": 5,
   "id": "45d0e057",
   "metadata": {},
   "outputs": [],
   "source": [
    "db.movies.drop()\n",
    "movies_collection=db.movies"
   ]
  },
  {
   "cell_type": "code",
   "execution_count": 6,
   "id": "90c1231a",
   "metadata": {},
   "outputs": [
    {
     "data": {
      "text/plain": [
       "InsertManyResult([ObjectId('655d37d64f9c3c89cc96f078'), ObjectId('655d37d64f9c3c89cc96f079'), ObjectId('655d37d64f9c3c89cc96f07a'), ObjectId('655d37d64f9c3c89cc96f07b'), ObjectId('655d37d64f9c3c89cc96f07c')], acknowledged=True)"
      ]
     },
     "execution_count": 6,
     "metadata": {},
     "output_type": "execute_result"
    }
   ],
   "source": [
    "movies_collection.insert_many([\n",
    "    {\"movie_id\": 1, \"title\": \"Inception\", \"genre\": \"Sci-Fi\", \"release_year\": 2010},\n",
    "    {\"movie_id\": 2, \"title\": \"The Shawshank Redemption\", \"genre\": \"Drama\", \"release_year\": 1994},\n",
    "    {\"movie_id\": 3, \"title\": \"Toy Story\", \"genre\": \"Fiction\", \"release_year\": 1995},\n",
    "    {\"movie_id\": 4, \"title\": \"The Truman Show\", \"genre\": \"Thriller\", \"release_year\": 1999},\n",
    "    {\"movie_id\": 5, \"title\": \"Star-Wars\", \"genre\": \"Sci-Fi\", \"release_year\": 1977}\n",
    "])"
   ]
  },
  {
   "cell_type": "markdown",
   "id": "ef5624f3",
   "metadata": {},
   "source": [
    "## User Collection"
   ]
  },
  {
   "cell_type": "code",
   "execution_count": 7,
   "id": "ed3c6a79",
   "metadata": {},
   "outputs": [],
   "source": [
    "db.users.drop()\n",
    "movies_users=db.users"
   ]
  },
  {
   "cell_type": "code",
   "execution_count": 8,
   "id": "36362130",
   "metadata": {},
   "outputs": [
    {
     "data": {
      "text/plain": [
       "InsertManyResult([ObjectId('655d37d64f9c3c89cc96f07d'), ObjectId('655d37d64f9c3c89cc96f07e'), ObjectId('655d37d64f9c3c89cc96f07f'), ObjectId('655d37d64f9c3c89cc96f080'), ObjectId('655d37d64f9c3c89cc96f081')], acknowledged=True)"
      ]
     },
     "execution_count": 8,
     "metadata": {},
     "output_type": "execute_result"
    }
   ],
   "source": [
    "movies_users.insert_many([\n",
    "    { \"user_id\": 101,\"username\": \"Justin\", \"email\": \"justin@example.com\", \"age\": 22, \"gender\": \"Male\"},\n",
    "    { \"user_id\": 102,\"username\": \"Joseph\", \"email\": \"joseph@example.com\", \"age\": 22, \"gender\": \"Male\"},\n",
    "    { \"user_id\": 103,\"username\": \"Satyaprakash\", \"email\": \"satyaprakash@example.com\", \"age\": 26, \"gender\": \"Male\"},\n",
    "    { \"user_id\": 104,\"username\": \"Shrey\", \"email\": \"shrey@example.com\", \"age\": 23, \"gender\": \"Male\"},\n",
    "    { \"user_id\": 105,\"username\": \"Ron\", \"email\": \"ron@example.com\", \"age\": 55, \"gender\": \"Male\"}\n",
    "])"
   ]
  },
  {
   "cell_type": "markdown",
   "id": "808075bd",
   "metadata": {},
   "source": [
    "## Ratings Collection"
   ]
  },
  {
   "cell_type": "code",
   "execution_count": 9,
   "id": "f49ca73c",
   "metadata": {},
   "outputs": [],
   "source": [
    "db.ratings.drop()\n",
    "movies_ratings=db.ratings"
   ]
  },
  {
   "cell_type": "code",
   "execution_count": 10,
   "id": "bf956231",
   "metadata": {},
   "outputs": [
    {
     "data": {
      "text/plain": [
       "InsertManyResult([ObjectId('655d37d64f9c3c89cc96f082'), ObjectId('655d37d64f9c3c89cc96f083'), ObjectId('655d37d64f9c3c89cc96f084'), ObjectId('655d37d64f9c3c89cc96f085'), ObjectId('655d37d64f9c3c89cc96f086'), ObjectId('655d37d64f9c3c89cc96f087')], acknowledged=True)"
      ]
     },
     "execution_count": 10,
     "metadata": {},
     "output_type": "execute_result"
    }
   ],
   "source": [
    "movies_ratings.insert_many([\n",
    "    {\"receipt_id\": 1001, \"r_user_id\": 101, \"r_movie_id\": 5, \"rating\": 6},\n",
    "    {\"receipt_id\": 1002, \"r_user_id\": 102, \"r_movie_id\": 4, \"rating\": 9.5},\n",
    "    {\"receipt_id\": 1003, \"r_user_id\": 103, \"r_movie_id\": 3, \"rating\": 8},\n",
    "    {\"receipt_id\": 1004, \"r_user_id\": 104, \"r_movie_id\": 2, \"rating\": 4.5},\n",
    "    {\"receipt_id\": 1005, \"r_user_id\": 105, \"r_movie_id\": 1, \"rating\": 6.5},\n",
    "    {\"receipt_id\": 1006, \"r_user_id\": 101, \"r_movie_id\": 3, \"rating\": 7}\n",
    "])"
   ]
  },
  {
   "cell_type": "markdown",
   "id": "89121bb1",
   "metadata": {},
   "source": [
    "## Location Collection"
   ]
  },
  {
   "cell_type": "code",
   "execution_count": 11,
   "id": "add572db",
   "metadata": {},
   "outputs": [],
   "source": [
    "db.location.drop()\n",
    "movies_location=db.location"
   ]
  },
  {
   "cell_type": "code",
   "execution_count": 12,
   "id": "9f160013",
   "metadata": {},
   "outputs": [
    {
     "data": {
      "text/plain": [
       "InsertManyResult([ObjectId('655d37d64f9c3c89cc96f088'), ObjectId('655d37d64f9c3c89cc96f089'), ObjectId('655d37d64f9c3c89cc96f08a'), ObjectId('655d37d64f9c3c89cc96f08b'), ObjectId('655d37d64f9c3c89cc96f08c')], acknowledged=True)"
      ]
     },
     "execution_count": 12,
     "metadata": {},
     "output_type": "execute_result"
    }
   ],
   "source": [
    "movies_location.insert_many([\n",
    "    {\"country\":\"USA\", \"city\":\"New York\", \"l_movie_id\":3},\n",
    "    {\"country\":\"AUS\", \"city\":\"Sydney\", \"l_movie_id\":5},\n",
    "    {\"country\":\"UK\", \"city\":\"Leeds\", \"l_movie_id\":2},\n",
    "    {\"country\":\"India\", \"city\":\"Mumbai\", \"l_movie_id\":4},\n",
    "    {\"country\":\"Germany\", \"city\":\"Berlin\", \"l_movie_id\":1}\n",
    "\n",
    "])"
   ]
  },
  {
   "cell_type": "markdown",
   "id": "4faab791",
   "metadata": {},
   "source": [
    "##  Query with 2 collections"
   ]
  },
  {
   "cell_type": "code",
   "execution_count": 13,
   "id": "99b62a84",
   "metadata": {},
   "outputs": [
    {
     "data": {
      "text/html": [
       "<div>\n",
       "<style scoped>\n",
       "    .dataframe tbody tr th:only-of-type {\n",
       "        vertical-align: middle;\n",
       "    }\n",
       "\n",
       "    .dataframe tbody tr th {\n",
       "        vertical-align: top;\n",
       "    }\n",
       "\n",
       "    .dataframe thead th {\n",
       "        text-align: right;\n",
       "    }\n",
       "</style>\n",
       "<table border=\"1\" class=\"dataframe\">\n",
       "  <thead>\n",
       "    <tr style=\"text-align: right;\">\n",
       "      <th></th>\n",
       "      <th>movie_id</th>\n",
       "      <th>title</th>\n",
       "      <th>country</th>\n",
       "    </tr>\n",
       "  </thead>\n",
       "  <tbody>\n",
       "    <tr>\n",
       "      <th>0</th>\n",
       "      <td>1</td>\n",
       "      <td>Inception</td>\n",
       "      <td>Germany</td>\n",
       "    </tr>\n",
       "    <tr>\n",
       "      <th>1</th>\n",
       "      <td>2</td>\n",
       "      <td>The Shawshank Redemption</td>\n",
       "      <td>UK</td>\n",
       "    </tr>\n",
       "    <tr>\n",
       "      <th>2</th>\n",
       "      <td>3</td>\n",
       "      <td>Toy Story</td>\n",
       "      <td>USA</td>\n",
       "    </tr>\n",
       "    <tr>\n",
       "      <th>3</th>\n",
       "      <td>4</td>\n",
       "      <td>The Truman Show</td>\n",
       "      <td>India</td>\n",
       "    </tr>\n",
       "    <tr>\n",
       "      <th>4</th>\n",
       "      <td>5</td>\n",
       "      <td>Star-Wars</td>\n",
       "      <td>AUS</td>\n",
       "    </tr>\n",
       "  </tbody>\n",
       "</table>\n",
       "</div>"
      ],
      "text/plain": [
       "   movie_id                     title  country\n",
       "0         1                 Inception  Germany\n",
       "1         2  The Shawshank Redemption       UK\n",
       "2         3                 Toy Story      USA\n",
       "3         4           The Truman Show    India\n",
       "4         5                 Star-Wars      AUS"
      ]
     },
     "execution_count": 13,
     "metadata": {},
     "output_type": "execute_result"
    }
   ],
   "source": [
    "# This query joins Movie collection & Location collections\n",
    "\n",
    "query1 = movies_collection.aggregate(\n",
    "    [ { '$lookup': { 'from':         'location',\n",
    "                     'localField':   'movie_id',\n",
    "                     'foreignField': 'l_movie_id',\n",
    "                     'as':           'movie_id_doc'\n",
    "                   }\n",
    "      },\n",
    "      { '$unwind': '$movie_id_doc' },\n",
    "      { '$project': { '_id': 0,\n",
    "                      'movie_id': 1,\n",
    "                      'title': 1,\n",
    "                       'country':'$movie_id_doc.country'\n",
    "                    }\n",
    "      }             \n",
    "    ]\n",
    ")\n",
    "\n",
    "pd.DataFrame(query1)"
   ]
  },
  {
   "cell_type": "markdown",
   "id": "781a9fee",
   "metadata": {},
   "source": [
    "## Query with 3 collections"
   ]
  },
  {
   "cell_type": "code",
   "execution_count": 14,
   "id": "4caad00f",
   "metadata": {},
   "outputs": [
    {
     "data": {
      "text/html": [
       "<div>\n",
       "<style scoped>\n",
       "    .dataframe tbody tr th:only-of-type {\n",
       "        vertical-align: middle;\n",
       "    }\n",
       "\n",
       "    .dataframe tbody tr th {\n",
       "        vertical-align: top;\n",
       "    }\n",
       "\n",
       "    .dataframe thead th {\n",
       "        text-align: right;\n",
       "    }\n",
       "</style>\n",
       "<table border=\"1\" class=\"dataframe\">\n",
       "  <thead>\n",
       "    <tr style=\"text-align: right;\">\n",
       "      <th></th>\n",
       "      <th>receipt_id</th>\n",
       "      <th>rating</th>\n",
       "      <th>title</th>\n",
       "      <th>username</th>\n",
       "    </tr>\n",
       "  </thead>\n",
       "  <tbody>\n",
       "    <tr>\n",
       "      <th>0</th>\n",
       "      <td>1001</td>\n",
       "      <td>6.0</td>\n",
       "      <td>Star-Wars</td>\n",
       "      <td>[Justin]</td>\n",
       "    </tr>\n",
       "    <tr>\n",
       "      <th>1</th>\n",
       "      <td>1002</td>\n",
       "      <td>9.5</td>\n",
       "      <td>The Truman Show</td>\n",
       "      <td>[Joseph]</td>\n",
       "    </tr>\n",
       "    <tr>\n",
       "      <th>2</th>\n",
       "      <td>1003</td>\n",
       "      <td>8.0</td>\n",
       "      <td>Toy Story</td>\n",
       "      <td>[Satyaprakash]</td>\n",
       "    </tr>\n",
       "    <tr>\n",
       "      <th>3</th>\n",
       "      <td>1004</td>\n",
       "      <td>4.5</td>\n",
       "      <td>The Shawshank Redemption</td>\n",
       "      <td>[Shrey]</td>\n",
       "    </tr>\n",
       "    <tr>\n",
       "      <th>4</th>\n",
       "      <td>1005</td>\n",
       "      <td>6.5</td>\n",
       "      <td>Inception</td>\n",
       "      <td>[Ron]</td>\n",
       "    </tr>\n",
       "    <tr>\n",
       "      <th>5</th>\n",
       "      <td>1006</td>\n",
       "      <td>7.0</td>\n",
       "      <td>Toy Story</td>\n",
       "      <td>[Justin]</td>\n",
       "    </tr>\n",
       "  </tbody>\n",
       "</table>\n",
       "</div>"
      ],
      "text/plain": [
       "   receipt_id  rating                     title        username\n",
       "0        1001     6.0                 Star-Wars        [Justin]\n",
       "1        1002     9.5           The Truman Show        [Joseph]\n",
       "2        1003     8.0                 Toy Story  [Satyaprakash]\n",
       "3        1004     4.5  The Shawshank Redemption         [Shrey]\n",
       "4        1005     6.5                 Inception           [Ron]\n",
       "5        1006     7.0                 Toy Story        [Justin]"
      ]
     },
     "execution_count": 14,
     "metadata": {},
     "output_type": "execute_result"
    }
   ],
   "source": [
    "# This query joins ratings collection, users collection & movies collection\n",
    "\n",
    "query2= movies_ratings.aggregate([ \n",
    "    { '$lookup': { 'from':         'movies',\n",
    "                     'localField':   'r_movie_id',\n",
    "                     'foreignField': 'movie_id',\n",
    "                     'as':           'movie_id_doc'\n",
    "                   }\n",
    "      },\n",
    "    \n",
    "      { '$unwind': '$movie_id_doc' },\n",
    "    \n",
    "      {'$lookup': { 'from':         'users',\n",
    "                     'localField':   'r_user_id',\n",
    "                     'foreignField': 'user_id',\n",
    "                     'as':           'user_id_doc'\n",
    "                   }\n",
    "      },\n",
    "    \n",
    "      { '$unwind': '$movie_id_doc' },\n",
    "    \n",
    "      { '$project': { '_id': 0,\n",
    "                      'receipt_id': 1,\n",
    "                      'title': \"$movie_id_doc.title\",\n",
    "                      'username':\"$user_id_doc.username\",\n",
    "                      'rating':1\n",
    "                       \n",
    "                    }\n",
    "      }             \n",
    "    ]\n",
    ")\n",
    "pd.DataFrame(query2)"
   ]
  },
  {
   "cell_type": "markdown",
   "id": "8b77f3bf",
   "metadata": {},
   "source": [
    "## Query with 4 collections"
   ]
  },
  {
   "cell_type": "code",
   "execution_count": 15,
   "id": "15f119d4",
   "metadata": {},
   "outputs": [
    {
     "data": {
      "text/html": [
       "<div>\n",
       "<style scoped>\n",
       "    .dataframe tbody tr th:only-of-type {\n",
       "        vertical-align: middle;\n",
       "    }\n",
       "\n",
       "    .dataframe tbody tr th {\n",
       "        vertical-align: top;\n",
       "    }\n",
       "\n",
       "    .dataframe thead th {\n",
       "        text-align: right;\n",
       "    }\n",
       "</style>\n",
       "<table border=\"1\" class=\"dataframe\">\n",
       "  <thead>\n",
       "    <tr style=\"text-align: right;\">\n",
       "      <th></th>\n",
       "      <th>receipt_id</th>\n",
       "      <th>rating</th>\n",
       "      <th>title</th>\n",
       "      <th>username</th>\n",
       "      <th>country</th>\n",
       "      <th>city</th>\n",
       "    </tr>\n",
       "  </thead>\n",
       "  <tbody>\n",
       "    <tr>\n",
       "      <th>0</th>\n",
       "      <td>1003</td>\n",
       "      <td>8</td>\n",
       "      <td>Toy Story</td>\n",
       "      <td>Satyaprakash</td>\n",
       "      <td>USA</td>\n",
       "      <td>New York</td>\n",
       "    </tr>\n",
       "    <tr>\n",
       "      <th>1</th>\n",
       "      <td>1006</td>\n",
       "      <td>7</td>\n",
       "      <td>Toy Story</td>\n",
       "      <td>Justin</td>\n",
       "      <td>USA</td>\n",
       "      <td>New York</td>\n",
       "    </tr>\n",
       "  </tbody>\n",
       "</table>\n",
       "</div>"
      ],
      "text/plain": [
       "   receipt_id  rating      title      username country      city\n",
       "0        1003       8  Toy Story  Satyaprakash     USA  New York\n",
       "1        1006       7  Toy Story        Justin     USA  New York"
      ]
     },
     "execution_count": 15,
     "metadata": {},
     "output_type": "execute_result"
    }
   ],
   "source": [
    "#This query joins all collection(movies, ratings,users, location) and it only shows results where the movie title is \"Toy Story\"\n",
    "query3=movies_ratings.aggregate([ \n",
    "    { '$lookup': { 'from':         'movies',\n",
    "                     'localField':   'r_movie_id',\n",
    "                     'foreignField': 'movie_id',\n",
    "                     'as':           'movie_id_doc'\n",
    "                   }\n",
    "      },\n",
    "    \n",
    "      { '$unwind': '$movie_id_doc' },\n",
    "    \n",
    "      {'$lookup': { 'from':         'users',\n",
    "                     'localField':   'r_user_id',\n",
    "                     'foreignField': 'user_id',\n",
    "                     'as':           'user_id_doc'\n",
    "                   }\n",
    "      },\n",
    "    \n",
    "      { '$unwind': '$user_id_doc' },\n",
    "    \n",
    "    {'$lookup': { 'from':         'location',\n",
    "                     'localField':   'r_movie_id',\n",
    "                     'foreignField': 'l_movie_id',\n",
    "                     'as':           'location_doc'\n",
    "                   }\n",
    "      },\n",
    "    \n",
    "      { '$unwind': '$location_doc' },\n",
    "      { '$match' : { '$and': [ {'movie_id_doc.title': 'Toy Story'}\n",
    "                            \n",
    "                             ]\n",
    "                   }\n",
    "      },\n",
    "      { '$project': { '_id': 0,\n",
    "                      'receipt_id': 1,\n",
    "                      'title': \"$movie_id_doc.title\",\n",
    "                      'username':\"$user_id_doc.username\",\n",
    "                      'rating':1,\n",
    "                     'country':'$location_doc.country',\n",
    "                     'city':'$location_doc.city'\n",
    "                       \n",
    "                    }\n",
    "      }             \n",
    "    ]\n",
    ")\n",
    "pd.DataFrame(query3)"
   ]
  },
  {
   "cell_type": "code",
   "execution_count": null,
   "id": "e6a884e1",
   "metadata": {},
   "outputs": [],
   "source": []
  }
 ],
 "metadata": {
  "kernelspec": {
   "display_name": "Python 3 (ipykernel)",
   "language": "python",
   "name": "python3"
  },
  "language_info": {
   "codemirror_mode": {
    "name": "ipython",
    "version": 3
   },
   "file_extension": ".py",
   "mimetype": "text/x-python",
   "name": "python",
   "nbconvert_exporter": "python",
   "pygments_lexer": "ipython3",
   "version": "3.11.4"
  }
 },
 "nbformat": 4,
 "nbformat_minor": 5
}
