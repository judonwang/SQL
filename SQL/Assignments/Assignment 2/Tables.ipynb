{
 "cells": [
  {
   "cell_type": "code",
   "execution_count": 1,
   "id": "9f7d169c-4c53-4df9-9cb0-113f2594fd03",
   "metadata": {
    "tags": []
   },
   "outputs": [],
   "source": [
    "import csv\n",
    "import os\n",
    "import pandas as pd\n",
    "from configparser import ConfigParser\n",
    "from mysql.connector import MySQLConnection, Error"
   ]
  },
  {
   "cell_type": "markdown",
   "id": "ebdd55c8",
   "metadata": {},
   "source": [
    "Utils"
   ]
  },
  {
   "cell_type": "code",
   "execution_count": 2,
   "id": "a6c31d0e-faee-435e-9477-a544489bca73",
   "metadata": {
    "tags": []
   },
   "outputs": [],
   "source": [
    "def read_config(config_file = 'config.ini', section = 'mysql'):\n",
    "    \"\"\"\n",
    "    Read the configuration file config_file with the given section.\n",
    "    If successful, return the configuration as a dictionary,\n",
    "    else raise an exception.\n",
    "    \"\"\"\n",
    "    parser = ConfigParser()\n",
    "    \n",
    "    # Does the configuration file exist?\n",
    "    if os.path.isfile(config_file):\n",
    "        parser.read(config_file)\n",
    "    else:\n",
    "        raise Exception(f\"Configuration file '{config_file}' \"\n",
    "                        \"doesn't exist.\")\n",
    "    \n",
    "    config = {}\n",
    "    \n",
    "    if parser.has_section(section):\n",
    "        # Parse the configuration file.\n",
    "        items = parser.items(section)\n",
    "        \n",
    "        # Construct the parameter dictionary.\n",
    "        for item in items:\n",
    "            config[item[0]] = item[1]\n",
    "            \n",
    "    else:\n",
    "        raise Exception(f'Section [{section}] missing ' + \\\n",
    "                        f'in config file {config_file}')\n",
    "    \n",
    "    return config"
   ]
  },
  {
   "cell_type": "code",
   "execution_count": 3,
   "id": "b2876eea-4995-48b6-b074-9b0f83a9350e",
   "metadata": {
    "tags": []
   },
   "outputs": [],
   "source": [
    "def make_connection(config_file = 'config.ini', section = 'mysql'):\n",
    "    \"\"\"\n",
    "    Make a database connection with the configuration file config_file\n",
    "    with the given section. If successful, return the connection,\n",
    "    else raise an exception.\n",
    "    \"\"\"\n",
    "    try:\n",
    "        db_config = read_config(config_file, section)\n",
    "        conn = MySQLConnection(**db_config)\n",
    "\n",
    "        if conn.is_connected():\n",
    "            return conn\n",
    "\n",
    "    except Error as e:\n",
    "        raise Exception(f'Connection failed: {e}')\n"
   ]
  },
  {
   "cell_type": "code",
   "execution_count": 4,
   "id": "d4436f57-48b2-47ac-b33b-5c1b4d9b60f6",
   "metadata": {
    "tags": []
   },
   "outputs": [],
   "source": [
    "def dataframe_query(conn, sql):\n",
    "    \"\"\"\n",
    "    Use the database connection conn to execute\n",
    "    the SQL code. Return the resulting row count\n",
    "    and the rows as a dataframe or (0, None) \n",
    "    if there were no rows. If the query failed,\n",
    "    raise an exception.\n",
    "    \"\"\"\n",
    "    try:\n",
    "        cursor = conn.cursor()\n",
    "        cursor.execute(sql)\n",
    "\n",
    "        rows  = cursor.fetchall()\n",
    "        count = cursor.rowcount\n",
    "\n",
    "        if count > 0:\n",
    "\n",
    "            # Get the names of the columns.\n",
    "            columns = cursor.description\n",
    "            column_names = [column_info[0] \n",
    "                            for column_info in columns]\n",
    "\n",
    "            # Return the query results in a dataframe.\n",
    "            df = DataFrame(rows)\n",
    "            df.columns = column_names\n",
    "            cursor.close()\n",
    "            return count, df\n",
    "\n",
    "        else:\n",
    "            cursor.close()\n",
    "            return 0, None\n",
    "        \n",
    "    except Error as e:\n",
    "        raise Exception(f'Query failed: {e}')"
   ]
  },
  {
   "cell_type": "code",
   "execution_count": 5,
   "id": "8125c914",
   "metadata": {},
   "outputs": [],
   "source": [
    "#testdf = pd.read_csv('movies_metadata.csv', usecols = ['original_language'])"
   ]
  },
  {
   "cell_type": "code",
   "execution_count": 6,
   "id": "16912428",
   "metadata": {},
   "outputs": [],
   "source": [
    "#testdf['original_language'].unique()"
   ]
  },
  {
   "cell_type": "markdown",
   "id": "03966aa3",
   "metadata": {},
   "source": [
    "Connecting"
   ]
  },
  {
   "cell_type": "code",
   "execution_count": 7,
   "id": "cd045de7-130c-4eed-aae2-68ae32d988df",
   "metadata": {
    "tags": []
   },
   "outputs": [],
   "source": [
    "conn = make_connection(config_file='movies.ini')\n",
    "cursor = conn.cursor()"
   ]
  },
  {
   "cell_type": "markdown",
   "id": "5856c805",
   "metadata": {},
   "source": [
    "Creating Tables"
   ]
  },
  {
   "cell_type": "code",
   "execution_count": 8,
   "id": "a1c769c9-fa23-41da-bbb2-36b52b58972b",
   "metadata": {
    "tags": []
   },
   "outputs": [],
   "source": [
    "cursor.execute('DROP TABLE IF EXISTS links_small')\n",
    "\n",
    "sql = ( \"\"\"\n",
    "        CREATE TABLE links_small\n",
    "        (\n",
    "            movieId    int,\n",
    "            imdbId   int,\n",
    "            tmdbId    int,\n",
    "            PRIMARY KEY(movieId)\n",
    "        )\n",
    "        \"\"\"\n",
    "      )\n",
    "\n",
    "cursor.execute(sql)"
   ]
  },
  {
   "cell_type": "code",
   "execution_count": 9,
   "id": "da56cf22-46a8-4f8d-ade1-ff495f09a5c7",
   "metadata": {
    "tags": []
   },
   "outputs": [],
   "source": [
    "# Since userId has duplicates, movieId may contain duplicates, we cannot create a primary key without changing things.\n",
    "# Temporarily added an auto increment to set as a primary key\n",
    "cursor.execute('DROP TABLE IF EXISTS ratings')\n",
    "\n",
    "sql = ( \"\"\"\n",
    "        CREATE TABLE ratings\n",
    "        (\n",
    "            ID_column int AUTO_INCREMENT,\n",
    "            userId    int,\n",
    "            movieId   int,\n",
    "            rating    double,\n",
    "            timestamp double,\n",
    "            PRIMARY KEY(ID_column)\n",
    "        )\n",
    "        \"\"\"\n",
    "      )\n",
    "\n",
    "cursor.execute(sql)"
   ]
  },
  {
   "cell_type": "code",
   "execution_count": 10,
   "id": "a1e22ffb-1e6b-4681-b58d-5b2755332c1a",
   "metadata": {
    "tags": []
   },
   "outputs": [],
   "source": [
    "# Could use.\n",
    "cursor.execute('DROP TABLE IF EXISTS movies_metadata')\n",
    "sql = ( \"\"\"\n",
    "        CREATE TABLE movies_metadata\n",
    "        (\n",
    "            budget int,\n",
    "            id int,\n",
    "            imdb_id varchar(255),\n",
    "            original_language char(255),\n",
    "            original_title varchar(255),\n",
    "            PRIMARY KEY(id)\n",
    "        )\n",
    "        \"\"\"\n",
    "      )\n",
    "cursor.execute(sql)"
   ]
  },
  {
   "cell_type": "markdown",
   "id": "d7951b9b",
   "metadata": {},
   "source": [
    "Insert Commands"
   ]
  },
  {
   "cell_type": "code",
   "execution_count": 11,
   "id": "5242fe45-22d7-4087-bdaa-ec6d9d528cb8",
   "metadata": {
    "tags": []
   },
   "outputs": [],
   "source": [
    "sql_links_small = (\"\"\"\n",
    "                   INSERT INTO links_small\n",
    "                   VALUES (%s,%s,%s)\n",
    "                   \"\"\"\n",
    "                  )\n",
    "sql_ratings = (\"\"\"\n",
    "                INSERT INTO ratings (userId, movieId, rating, timestamp)\n",
    "                VALUES (%s,%s,%s,%s)\n",
    "                \"\"\"\n",
    "              )\n",
    "sql_metadata = (\"\"\"\n",
    "                INSERT INTO movies_metadata\n",
    "                VALUES (%s,%s,%s,%s,%s)\n",
    "                \"\"\"\n",
    "               )"
   ]
  },
  {
   "cell_type": "markdown",
   "id": "6d066fcf",
   "metadata": {},
   "source": [
    "Testing for Dupes"
   ]
  },
  {
   "cell_type": "code",
   "execution_count": 12,
   "id": "58347a91",
   "metadata": {},
   "outputs": [
    {
     "data": {
      "text/html": [
       "<div>\n",
       "<style scoped>\n",
       "    .dataframe tbody tr th:only-of-type {\n",
       "        vertical-align: middle;\n",
       "    }\n",
       "\n",
       "    .dataframe tbody tr th {\n",
       "        vertical-align: top;\n",
       "    }\n",
       "\n",
       "    .dataframe thead th {\n",
       "        text-align: right;\n",
       "    }\n",
       "</style>\n",
       "<table border=\"1\" class=\"dataframe\">\n",
       "  <thead>\n",
       "    <tr style=\"text-align: right;\">\n",
       "      <th></th>\n",
       "      <th>userId</th>\n",
       "      <th>movieId</th>\n",
       "      <th>rating</th>\n",
       "      <th>timestamp</th>\n",
       "    </tr>\n",
       "  </thead>\n",
       "  <tbody>\n",
       "    <tr>\n",
       "      <th>0</th>\n",
       "      <td>1</td>\n",
       "      <td>110</td>\n",
       "      <td>1.0</td>\n",
       "      <td>1425941529</td>\n",
       "    </tr>\n",
       "    <tr>\n",
       "      <th>1</th>\n",
       "      <td>1</td>\n",
       "      <td>147</td>\n",
       "      <td>4.5</td>\n",
       "      <td>1425942435</td>\n",
       "    </tr>\n",
       "    <tr>\n",
       "      <th>2</th>\n",
       "      <td>1</td>\n",
       "      <td>858</td>\n",
       "      <td>5.0</td>\n",
       "      <td>1425941523</td>\n",
       "    </tr>\n",
       "    <tr>\n",
       "      <th>3</th>\n",
       "      <td>1</td>\n",
       "      <td>1221</td>\n",
       "      <td>5.0</td>\n",
       "      <td>1425941546</td>\n",
       "    </tr>\n",
       "    <tr>\n",
       "      <th>4</th>\n",
       "      <td>1</td>\n",
       "      <td>1246</td>\n",
       "      <td>5.0</td>\n",
       "      <td>1425941556</td>\n",
       "    </tr>\n",
       "    <tr>\n",
       "      <th>...</th>\n",
       "      <td>...</td>\n",
       "      <td>...</td>\n",
       "      <td>...</td>\n",
       "      <td>...</td>\n",
       "    </tr>\n",
       "    <tr>\n",
       "      <th>26024284</th>\n",
       "      <td>270896</td>\n",
       "      <td>58559</td>\n",
       "      <td>5.0</td>\n",
       "      <td>1257031564</td>\n",
       "    </tr>\n",
       "    <tr>\n",
       "      <th>26024285</th>\n",
       "      <td>270896</td>\n",
       "      <td>60069</td>\n",
       "      <td>5.0</td>\n",
       "      <td>1257032032</td>\n",
       "    </tr>\n",
       "    <tr>\n",
       "      <th>26024286</th>\n",
       "      <td>270896</td>\n",
       "      <td>63082</td>\n",
       "      <td>4.5</td>\n",
       "      <td>1257031764</td>\n",
       "    </tr>\n",
       "    <tr>\n",
       "      <th>26024287</th>\n",
       "      <td>270896</td>\n",
       "      <td>64957</td>\n",
       "      <td>4.5</td>\n",
       "      <td>1257033990</td>\n",
       "    </tr>\n",
       "    <tr>\n",
       "      <th>26024288</th>\n",
       "      <td>270896</td>\n",
       "      <td>71878</td>\n",
       "      <td>2.0</td>\n",
       "      <td>1257031858</td>\n",
       "    </tr>\n",
       "  </tbody>\n",
       "</table>\n",
       "<p>26016630 rows × 4 columns</p>\n",
       "</div>"
      ],
      "text/plain": [
       "          userId  movieId  rating   timestamp\n",
       "0              1      110     1.0  1425941529\n",
       "1              1      147     4.5  1425942435\n",
       "2              1      858     5.0  1425941523\n",
       "3              1     1221     5.0  1425941546\n",
       "4              1     1246     5.0  1425941556\n",
       "...          ...      ...     ...         ...\n",
       "26024284  270896    58559     5.0  1257031564\n",
       "26024285  270896    60069     5.0  1257032032\n",
       "26024286  270896    63082     4.5  1257031764\n",
       "26024287  270896    64957     4.5  1257033990\n",
       "26024288  270896    71878     2.0  1257031858\n",
       "\n",
       "[26016630 rows x 4 columns]"
      ]
     },
     "execution_count": 12,
     "metadata": {},
     "output_type": "execute_result"
    }
   ],
   "source": [
    "# Testing to see if ratings has duplicate movies for one to many\n",
    "dupe1 = pd.read_csv('ratings.csv')\n",
    "dupe1[dupe1.duplicated('movieId', keep=False)==True]"
   ]
  },
  {
   "cell_type": "code",
   "execution_count": 13,
   "id": "07bc0d04",
   "metadata": {},
   "outputs": [
    {
     "data": {
      "text/plain": [
       "[(11, 110, 3.5),\n",
       " (22, 110, 5.0),\n",
       " (24, 110, 5.0),\n",
       " (29, 110, 3.0),\n",
       " (30, 110, 5.0),\n",
       " (33, 110, 3.0),\n",
       " (34, 110, 5.0),\n",
       " (49, 110, 4.0),\n",
       " (56, 110, 4.0),\n",
       " (58, 110, 5.0)]"
      ]
     },
     "execution_count": 13,
     "metadata": {},
     "output_type": "execute_result"
    }
   ],
   "source": [
    "lis = []\n",
    "id = 110\n",
    "i=1\n",
    "while len(lis) < 10:\n",
    "    if dupe1['movieId'][i] == id:\n",
    "        lis.append((dupe1['userId'][i], dupe1['movieId'][i], dupe1['rating'][i]))\n",
    "    i+=1\n",
    "lis"
   ]
  },
  {
   "cell_type": "markdown",
   "id": "101b24b2",
   "metadata": {},
   "source": [
    "Inserting the Data into the Tables"
   ]
  },
  {
   "cell_type": "code",
   "execution_count": 14,
   "id": "ff5b7513-3a18-4ad4-952c-41321ad73244",
   "metadata": {
    "tags": []
   },
   "outputs": [],
   "source": [
    "count = 0\n",
    "first = True\n",
    "with open('links_small.csv', newline='') as csv_file:\n",
    "    data = csv.reader(csv_file,delimiter = ',', quotechar='\"')\n",
    "    for row in data:\n",
    "        if not first:\n",
    "            count+=1\n",
    "            if count > 100:\n",
    "                break\n",
    "            cursor.execute(sql_links_small, row)\n",
    "        first = False\n",
    "conn.commit()"
   ]
  },
  {
   "cell_type": "code",
   "execution_count": 15,
   "id": "5d6d8e8c-63b0-4c66-89cb-c86ba9279e56",
   "metadata": {
    "tags": []
   },
   "outputs": [],
   "source": [
    "count = 0\n",
    "first = True\n",
    "with open('ratings.csv', newline='') as csv_file:\n",
    "    data = csv.reader(csv_file,delimiter = ',', quotechar='\"')\n",
    "    for row in data:\n",
    "        if not first:\n",
    "            count+=1\n",
    "            if count > 100:\n",
    "                break\n",
    "            cursor.execute(sql_ratings, row)\n",
    "        first = False\n",
    "conn.commit()"
   ]
  },
  {
   "cell_type": "code",
   "execution_count": 16,
   "id": "316ad781-a741-4342-9910-0989214f2ded",
   "metadata": {
    "tags": []
   },
   "outputs": [],
   "source": [
    "# Only want speciic columns?; Could -perform ETL and convert the language to its full name.\n",
    "count = 0\n",
    "first = True\n",
    "testLis = [2, 5,6,7,8]\n",
    "with open('movies_metadata.csv', newline='', encoding=\"utf-8\") as csv_file:\n",
    "    data = csv.reader(csv_file,delimiter = ',', quotechar='\"')\n",
    "    for row in data:\n",
    "        if not first:\n",
    "            test = [row[i] for i in testLis]\n",
    "            count+=1\n",
    "            if count > 100:\n",
    "                break\n",
    "            cursor.execute(sql_metadata, test)\n",
    "        first = False\n",
    "conn.commit()"
   ]
  },
  {
   "cell_type": "markdown",
   "id": "d08a4806",
   "metadata": {},
   "source": [
    "Show the Tables in a DataFrame"
   ]
  },
  {
   "cell_type": "code",
   "execution_count": 20,
   "id": "82311559",
   "metadata": {},
   "outputs": [],
   "source": [
    "select_links_small = (\"\"\"\n",
    "                   SELECT * FROM links_small LIMIT 25\n",
    "                   \"\"\"\n",
    "                  )\n",
    "cursor.execute(select_links_small)\n",
    "df1 = pd.DataFrame(cursor.fetchall())\n",
    "df1\n",
    "conn.commit()"
   ]
  },
  {
   "cell_type": "code",
   "execution_count": 18,
   "id": "20aaf7b3",
   "metadata": {},
   "outputs": [],
   "source": [
    "select_ratings = (\"\"\"\n",
    "                   SELECT * FROM ratings LIMIT 25\n",
    "                   \"\"\"\n",
    "                  )\n",
    "cursor.execute(select_ratings)\n",
    "df2 = pd.DataFrame(cursor.fetchall())\n",
    "df2\n",
    "conn.commit()"
   ]
  },
  {
   "cell_type": "code",
   "execution_count": 19,
   "id": "f2687bc1",
   "metadata": {},
   "outputs": [],
   "source": [
    "select_metadata = (\"\"\"\n",
    "                   SELECT * FROM movies_metadata LIMIT 25\n",
    "                   \"\"\"\n",
    "                  )\n",
    "cursor.execute(select_metadata)\n",
    "df3 = pd.DataFrame(cursor.fetchall())\n",
    "df3\n",
    "conn.commit()"
   ]
  },
  {
   "cell_type": "markdown",
   "id": "44ed531b",
   "metadata": {},
   "source": [
    "One to One, One to Many, Many to Many"
   ]
  },
  {
   "cell_type": "code",
   "execution_count": 18,
   "id": "81b43403",
   "metadata": {},
   "outputs": [
    {
     "name": "stdout",
     "output_type": "stream",
     "text": [
      "[(5, 'Four Rooms'), (63, 'Twelve Monkeys')]\n"
     ]
    }
   ],
   "source": [
    "# one to one\n",
    "oto1 = (\n",
    "        \"\"\"\n",
    "        SELECT m.id, m.original_title from movies_metadata as m, links_small as l\n",
    "        WHERE m.id = l.movieId\n",
    "        \n",
    "        \"\"\"\n",
    ")\n",
    "cursor.execute(oto1)\n",
    "results = cursor.fetchall()\n",
    "print(results)\n",
    "conn.commit()"
   ]
  },
  {
   "cell_type": "code",
   "execution_count": 20,
   "id": "afd9399e",
   "metadata": {},
   "outputs": [
    {
     "name": "stdout",
     "output_type": "stream",
     "text": [
      "[(5, 3.0), (25, 3.0), (32, 2.0), (58, 3.0), (64, 4.0), (79, 4.0)]\n"
     ]
    }
   ],
   "source": [
    "# one to many\n",
    "# This one might not work within the first 100 in the table.\n",
    "otm1 = (\"\"\"\n",
    "        SELECT l.movieId, r.rating from links_small as l, ratings as r\n",
    "        WHERE l.movieId = r.movieId\n",
    "        \"\"\")\n",
    "cursor.execute(otm1)\n",
    "results = cursor.fetchall()\n",
    "print(results)\n",
    "conn.commit()"
   ]
  },
  {
   "cell_type": "code",
   "execution_count": null,
   "id": "80bead6e",
   "metadata": {},
   "outputs": [],
   "source": [
    "# many to many"
   ]
  },
  {
   "cell_type": "code",
   "execution_count": null,
   "id": "43045688-b412-48d1-b9fc-af138b77ac87",
   "metadata": {
    "tags": []
   },
   "outputs": [],
   "source": [
    "cursor.close()\n",
    "conn.close()"
   ]
  },
  {
   "cell_type": "code",
   "execution_count": null,
   "id": "46e59e29-a200-430c-8b67-6750d918d2af",
   "metadata": {},
   "outputs": [],
   "source": []
  }
 ],
 "metadata": {
  "kernelspec": {
   "display_name": "Python 3 (ipykernel)",
   "language": "python",
   "name": "python3"
  },
  "language_info": {
   "codemirror_mode": {
    "name": "ipython",
    "version": 3
   },
   "file_extension": ".py",
   "mimetype": "text/x-python",
   "name": "python",
   "nbconvert_exporter": "python",
   "pygments_lexer": "ipython3",
   "version": "3.11.4"
  }
 },
 "nbformat": 4,
 "nbformat_minor": 5
}
