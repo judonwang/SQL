{
 "cells": [
  {
   "cell_type": "code",
   "execution_count": 1,
   "id": "51b49008",
   "metadata": {},
   "outputs": [],
   "source": [
    "import csv\n",
    "import os\n",
    "import pandas as pd\n",
    "from configparser import ConfigParser\n",
    "from mysql.connector import MySQLConnection, Error"
   ]
  },
  {
   "cell_type": "code",
   "execution_count": 2,
   "id": "dede897e",
   "metadata": {},
   "outputs": [],
   "source": [
    "def read_config(config_file = 'config.ini', section = 'mysql'):\n",
    "    \"\"\"\n",
    "    Read the configuration file config_file with the given section.\n",
    "    If successful, return the configuration as a dictionary,\n",
    "    else raise an exception.\n",
    "    \"\"\"\n",
    "    parser = ConfigParser()\n",
    "    \n",
    "    # Does the configuration file exist?\n",
    "    if os.path.isfile(config_file):\n",
    "        parser.read(config_file)\n",
    "    else:\n",
    "        raise Exception(f\"Configuration file '{config_file}' \"\n",
    "                        \"doesn't exist.\")\n",
    "    \n",
    "    config = {}\n",
    "    \n",
    "    if parser.has_section(section):\n",
    "        # Parse the configuration file.\n",
    "        items = parser.items(section)\n",
    "        \n",
    "        # Construct the parameter dictionary.\n",
    "        for item in items:\n",
    "            config[item[0]] = item[1]\n",
    "            \n",
    "    else:\n",
    "        raise Exception(f'Section [{section}] missing ' + \\\n",
    "                        f'in config file {config_file}')\n",
    "    \n",
    "    return config"
   ]
  },
  {
   "cell_type": "code",
   "execution_count": 3,
   "id": "86d59d7d",
   "metadata": {},
   "outputs": [],
   "source": [
    "def make_connection(config_file = 'config.ini', section = 'mysql'):\n",
    "    \"\"\"\n",
    "    Make a database connection with the configuration file config_file\n",
    "    with the given section. If successful, return the connection,\n",
    "    else raise an exception.\n",
    "    \"\"\"\n",
    "    try:\n",
    "        db_config = read_config(config_file, section)\n",
    "        conn = MySQLConnection(**db_config)\n",
    "\n",
    "        if conn.is_connected():\n",
    "            return conn\n",
    "\n",
    "    except Error as e:\n",
    "        raise Exception(f'Connection failed: {e}')"
   ]
  },
  {
   "cell_type": "code",
   "execution_count": 4,
   "id": "5d0d88f9",
   "metadata": {},
   "outputs": [],
   "source": [
    "def dataframe_query(conn, sql):\n",
    "    \"\"\"\n",
    "    Use the database connection conn to execute\n",
    "    the SQL code. Return the resulting row count\n",
    "    and the rows as a dataframe or (0, None) \n",
    "    if there were no rows. If the query failed,\n",
    "    raise an exception.\n",
    "    \"\"\"\n",
    "    try:\n",
    "        cursor = conn.cursor()\n",
    "        cursor.execute(sql)\n",
    "\n",
    "        rows  = cursor.fetchall()\n",
    "        count = cursor.rowcount\n",
    "\n",
    "        if count > 0:\n",
    "\n",
    "            # Get the names of the columns.\n",
    "            columns = cursor.description\n",
    "            column_names = [column_info[0] \n",
    "                            for column_info in columns]\n",
    "\n",
    "            # Return the query results in a dataframe.\n",
    "            df = DataFrame(rows)\n",
    "            df.columns = column_names\n",
    "            cursor.close()\n",
    "            return count, df\n",
    "\n",
    "        else:\n",
    "            cursor.close()\n",
    "            return 0, None\n",
    "        \n",
    "    except Error as e:\n",
    "        raise Exception(f'Query failed: {e}')"
   ]
  },
  {
   "cell_type": "code",
   "execution_count": 5,
   "id": "70a989c1",
   "metadata": {},
   "outputs": [],
   "source": [
    "conn = make_connection(config_file='movies.ini')\n",
    "cursor = conn.cursor()\n"
   ]
  },
  {
   "cell_type": "code",
   "execution_count": 6,
   "id": "fcb658b3",
   "metadata": {},
   "outputs": [],
   "source": [
    "cursor.execute('DROP TABLE IF EXISTS customers')\n",
    "\n",
    "sql = ( \"\"\"\n",
    "        CREATE TABLE customers\n",
    "        (\n",
    "            cCode    varchar(255),\n",
    "            cName   varchar(255),\n",
    "            cType    varchar(255),\n",
    "            PRIMARY KEY(cCode)\n",
    "        )\n",
    "        \"\"\"\n",
    "      )\n",
    "\n",
    "cursor.execute(sql)"
   ]
  },
  {
   "cell_type": "code",
   "execution_count": 7,
   "id": "a4ee1c74",
   "metadata": {},
   "outputs": [],
   "source": [
    "cursor.execute('DROP TABLE IF EXISTS markets')\n",
    "\n",
    "sql = ( \"\"\"\n",
    "        CREATE TABLE markets\n",
    "        (\n",
    "            mCode    varchar(255),\n",
    "            mName   varchar(255),\n",
    "            zone    varchar(255),\n",
    "            PRIMARY KEY(mCode)\n",
    "        )\n",
    "        \"\"\"\n",
    "      )\n",
    "\n",
    "cursor.execute(sql)"
   ]
  },
  {
   "cell_type": "code",
   "execution_count": 8,
   "id": "e645a438",
   "metadata": {},
   "outputs": [],
   "source": [
    "cursor.execute('DROP TABLE IF EXISTS products')\n",
    "\n",
    "sql = ( \"\"\"\n",
    "        CREATE TABLE products\n",
    "        (\n",
    "            pCode    varchar(255),\n",
    "            pType    varchar(255),\n",
    "            PRIMARY KEY(pCode)\n",
    "        )\n",
    "        \"\"\"\n",
    "      )\n",
    "\n",
    "cursor.execute(sql)"
   ]
  },
  {
   "cell_type": "code",
   "execution_count": 9,
   "id": "3c5428b1",
   "metadata": {},
   "outputs": [],
   "source": [
    "cursor.execute('DROP TABLE IF EXISTS dates')\n",
    "\n",
    "sql = ( \"\"\"\n",
    "        CREATE TABLE dates\n",
    "        (\n",
    "            dates    datetime,\n",
    "            cy_date   datetime,\n",
    "            year    int,\n",
    "            month   char(255), \n",
    "            date_y   varchar(255),\n",
    "            PRIMARY KEY(dates)\n",
    "        )\n",
    "        \"\"\"\n",
    "      )\n",
    "\n",
    "cursor.execute(sql)"
   ]
  },
  {
   "cell_type": "code",
   "execution_count": 10,
   "id": "633fb6ce",
   "metadata": {},
   "outputs": [],
   "source": [
    "cursor.execute('DROP TABLE IF EXISTS transaction')\n",
    "\n",
    "sql = ( \"\"\"\n",
    "        CREATE TABLE transaction\n",
    "        (\n",
    "            ID_column int AUTO_INCREMENT,\n",
    "            pCode    varchar(255),\n",
    "            cCode   varchar(255),\n",
    "            mCode    varchar(255),\n",
    "            date   datetime, \n",
    "            salesQ   double,\n",
    "            salesA double,\n",
    "            currency char(255),\n",
    "            PRIMARY KEY(ID_column)\n",
    "        )\n",
    "        \"\"\"\n",
    "      )\n",
    "\n",
    "cursor.execute(sql)"
   ]
  },
  {
   "cell_type": "code",
   "execution_count": 11,
   "id": "934f7625",
   "metadata": {},
   "outputs": [],
   "source": [
    "cursor.execute('DROP TABLE IF EXISTS link')\n",
    "\n",
    "sql = ( \"\"\"\n",
    "        CREATE TABLE link\n",
    "        (\n",
    "            pCode    varchar(255),\n",
    "            cCode    varchar(255),\n",
    "            PRIMARY KEY(pCode,cCode)\n",
    "        )\n",
    "        \"\"\"\n",
    "      )\n",
    "\n",
    "cursor.execute(sql)"
   ]
  },
  {
   "cell_type": "code",
   "execution_count": 12,
   "id": "c7cd2a5b",
   "metadata": {},
   "outputs": [],
   "source": [
    "sql_trans = (\"\"\"\n",
    "                INSERT INTO transaction(pCode, cCode,mCode,date,salesQ,salesA,currency)\n",
    "                VALUES (%s,%s,%s,%s,%s,%s,%s)\n",
    "                \"\"\"\n",
    "               )\n",
    "sql_dates = (\"\"\"\n",
    "                INSERT INTO dates\n",
    "                VALUES (%s,%s,%s,%s,%s)\n",
    "                \"\"\"\n",
    "               )\n",
    "sql_cust = (\"\"\"\n",
    "                INSERT INTO customers\n",
    "                VALUES (%s,%s,%s)\n",
    "                \"\"\"\n",
    "               )\n",
    "sql_prod = (\"\"\"\n",
    "                INSERT INTO products\n",
    "                VALUES (%s,%s)\n",
    "                \"\"\"\n",
    "               )\n",
    "sql_mark = (\"\"\"\n",
    "                INSERT INTO markets\n",
    "                VALUES (%s,%s,%s)\n",
    "                \"\"\"\n",
    "               )\n",
    "\n",
    "# Creating Link Table for Many to Many Query\n",
    "sql_link = (\"\"\"\n",
    "            INSERT INTO link\n",
    "            VALUES(%s, %s)\"\"\")"
   ]
  },
  {
   "cell_type": "code",
   "execution_count": 13,
   "id": "c03765fa",
   "metadata": {},
   "outputs": [],
   "source": [
    "count = 0\n",
    "first = True\n",
    "with open('date.csv', newline='') as csv_file:\n",
    "    data = csv.reader(csv_file,delimiter = ',', quotechar='\"')\n",
    "    for row in data:\n",
    "        if not first:\n",
    "            count+=1\n",
    "            if count > 100:\n",
    "                break\n",
    "            cursor.execute(sql_dates, row)\n",
    "        first = False\n",
    "conn.commit()"
   ]
  },
  {
   "cell_type": "code",
   "execution_count": 14,
   "id": "3d1186a1",
   "metadata": {},
   "outputs": [],
   "source": [
    "count = 0\n",
    "first = True\n",
    "with open('transactions.csv', newline='') as csv_file:\n",
    "    data = csv.reader(csv_file,delimiter = ',', quotechar='\"')\n",
    "    for row in data:\n",
    "        if not first:\n",
    "            count+=1\n",
    "            if count > 100:\n",
    "                break\n",
    "            cursor.execute(sql_trans, row)\n",
    "        first = False\n",
    "conn.commit()"
   ]
  },
  {
   "cell_type": "code",
   "execution_count": 15,
   "id": "2a449dee",
   "metadata": {},
   "outputs": [],
   "source": [
    "count = 0\n",
    "first = True\n",
    "with open('customers.csv', newline='') as csv_file:\n",
    "    data = csv.reader(csv_file,delimiter = ',', quotechar='\"')\n",
    "    for row in data:\n",
    "        if not first:\n",
    "            count+=1\n",
    "            if count > 100:\n",
    "                break\n",
    "            cursor.execute(sql_cust, row)\n",
    "        first = False\n",
    "conn.commit()"
   ]
  },
  {
   "cell_type": "code",
   "execution_count": 16,
   "id": "e2f59f6e",
   "metadata": {},
   "outputs": [],
   "source": [
    "count = 0\n",
    "first = True\n",
    "with open('products.csv', newline='') as csv_file:\n",
    "    data = csv.reader(csv_file,delimiter = ',', quotechar='\"')\n",
    "    for row in data:\n",
    "        if not first:\n",
    "            count+=1\n",
    "            if count > 100:\n",
    "                break\n",
    "            cursor.execute(sql_prod, row)\n",
    "        first = False\n",
    "conn.commit()"
   ]
  },
  {
   "cell_type": "code",
   "execution_count": 17,
   "id": "7471cdc8",
   "metadata": {},
   "outputs": [],
   "source": [
    "count = 0\n",
    "first = True\n",
    "with open('markets.csv', newline='') as csv_file:\n",
    "    data = csv.reader(csv_file,delimiter = ',', quotechar='\"')\n",
    "    for row in data:\n",
    "        if not first:\n",
    "            count+=1\n",
    "            if count > 100:\n",
    "                break\n",
    "            cursor.execute(sql_mark, row)\n",
    "        first = False\n",
    "conn.commit()"
   ]
  },
  {
   "cell_type": "code",
   "execution_count": 18,
   "id": "85299874",
   "metadata": {},
   "outputs": [],
   "source": [
    "# Creating Link Table for Many to Many Query\n",
    "# Getting all unique product code to customer code, then putting it into a table called link\n",
    "link_df = pd.read_csv('transactions.csv', usecols=['product_code', 'customer_code'])\n",
    "link_df = link_df.drop_duplicates().reset_index()\n",
    "for i in range(len(link_df)):\n",
    "    cursor.execute(sql_link, [link_df['product_code'][i], link_df['customer_code'][i]])\n",
    "conn.commit()\n",
    "    "
   ]
  },
  {
   "cell_type": "markdown",
   "id": "97021a52",
   "metadata": {},
   "source": [
    "one to one\n"
   ]
  },
  {
   "cell_type": "code",
   "execution_count": 19,
   "id": "d54160cb",
   "metadata": {},
   "outputs": [
    {
     "name": "stdout",
     "output_type": "stream",
     "text": [
      "('Prod001', 'Cus001', 'Surge Stores', datetime.datetime(2017, 10, 10, 0, 0))\n"
     ]
    }
   ],
   "source": [
    "oto = (\"\"\"\n",
    "        SELECT t.pCode, c.cCode, c.cName, t.date \n",
    "        FROM transaction as t, customers as c\n",
    "        WHERE t.salesA = 41241\n",
    "        and t.cCode = c.cCode\"\"\")\n",
    "cursor.execute(oto)\n",
    "results = cursor.fetchall()\n",
    "for row in results:\n",
    "    print(row)\n",
    "conn.commit()"
   ]
  },
  {
   "cell_type": "markdown",
   "id": "d4490b5f",
   "metadata": {},
   "source": [
    "one to many"
   ]
  },
  {
   "cell_type": "code",
   "execution_count": 20,
   "id": "aa55831d",
   "metadata": {},
   "outputs": [
    {
     "name": "stdout",
     "output_type": "stream",
     "text": [
      "('Prod001', 'Cus001', datetime.datetime(2017, 10, 10, 0, 0))\n",
      "('Prod001', 'Cus002', datetime.datetime(2018, 5, 8, 0, 0))\n"
     ]
    }
   ],
   "source": [
    "otm = (\"\"\"\n",
    "        SELECT t.pCode,t.cCode, t.date\n",
    "        FROM transaction as t, products as p\n",
    "        WHERE p.pCode = 'Prod001'\n",
    "        AND p.pCode = t.pCode\"\"\")\n",
    "cursor.execute(otm)\n",
    "results = cursor.fetchall()\n",
    "for row in results:\n",
    "    print(row)\n",
    "conn.commit()"
   ]
  },
  {
   "cell_type": "markdown",
   "id": "c288b35b",
   "metadata": {},
   "source": [
    "many to many"
   ]
  },
  {
   "cell_type": "code",
   "execution_count": 21,
   "id": "2e5d8520",
   "metadata": {},
   "outputs": [
    {
     "name": "stdout",
     "output_type": "stream",
     "text": [
      "('Cus002', 'Nomad Stores', 'Prod001', datetime.datetime(2017, 10, 10, 0, 0))\n",
      "('Cus002', 'Nomad Stores', 'Prod001', datetime.datetime(2018, 5, 8, 0, 0))\n"
     ]
    }
   ],
   "source": [
    "#mtm = (\"\"\"\n",
    "#        SELECT t.*, c.*\n",
    "#        FROM transaction as t\n",
    "#        JOIN link l ON t.pCode = l.pCode\n",
    "#        JOIN customers c ON l.cCode = c.cCode\n",
    "mtm = (\"\"\"\n",
    "        SELECT c.cCode, c.cName, t.pCode,t.date\n",
    "        FROM customers c, transaction t, link l\n",
    "        WHERE c.cCode = l.cCode\n",
    "        AND t.pCode = l.pCode\n",
    "        AND c.cName = 'Nomad Stores'\"\"\")\n",
    "\n",
    "\n",
    "cursor.execute(mtm)\n",
    "results = cursor.fetchall()\n",
    "for row in results:\n",
    "    print(row)\n",
    "conn.commit()"
   ]
  },
  {
   "cell_type": "code",
   "execution_count": null,
   "id": "99aa8f03",
   "metadata": {},
   "outputs": [],
   "source": []
  }
 ],
 "metadata": {
  "kernelspec": {
   "display_name": "Python 3 (ipykernel)",
   "language": "python",
   "name": "python3"
  },
  "language_info": {
   "codemirror_mode": {
    "name": "ipython",
    "version": 3
   },
   "file_extension": ".py",
   "mimetype": "text/x-python",
   "name": "python",
   "nbconvert_exporter": "python",
   "pygments_lexer": "ipython3",
   "version": "3.11.4"
  }
 },
 "nbformat": 4,
 "nbformat_minor": 5
}
