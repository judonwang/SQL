{
 "cells": [
  {
   "cell_type": "code",
   "execution_count": 37,
   "id": "1054f727",
   "metadata": {},
   "outputs": [],
   "source": [
    "import csv\n",
    "from DATA225utils import make_connection\n",
    "import pandas as pd"
   ]
  },
  {
   "cell_type": "code",
   "execution_count": 30,
   "id": "18f5e181",
   "metadata": {},
   "outputs": [],
   "source": [
    "conn = make_connection(config_file = 'movies.ini')\n",
    "cursor = conn.cursor()"
   ]
  },
  {
   "cell_type": "code",
   "execution_count": 31,
   "id": "def1f8f9",
   "metadata": {},
   "outputs": [],
   "source": [
    "cursor.execute('DROP TABLE IF EXISTS movies')\n",
    "\n",
    "sql = ( \"\"\"\n",
    "        CREATE TABLE movies\n",
    "        (\n",
    "            movieIds  int,\n",
    "            userIds   int,\n",
    "            ratings   double,\n",
    "            timestamp int, \n",
    "            PRIMARY KEY(timestamp)\n",
    "        )\n",
    "        \"\"\"\n",
    "      )\n",
    "\n",
    "cursor.execute(sql);"
   ]
  },
  {
   "cell_type": "code",
   "execution_count": 32,
   "id": "bcd4fbe2",
   "metadata": {},
   "outputs": [],
   "source": [
    "sql_all = (   \"\"\"\n",
    "              INSERT INTO movies\n",
    "              VALUES (%s, %s, %s, %s)\n",
    "              \"\"\"\n",
    "          )\n"
   ]
  },
  {
   "cell_type": "code",
   "execution_count": 27,
   "id": "eb893abb",
   "metadata": {},
   "outputs": [],
   "source": [
    "cursor.close()\n",
    "conn.close()"
   ]
  },
  {
   "cell_type": "code",
   "execution_count": 33,
   "id": "7b86e5f1",
   "metadata": {},
   "outputs": [],
   "source": [
    "counter = 0\n",
    "first = True\n",
    "i = 0\n",
    "\n",
    "with open('/Users/josephchang/Desktop/archive/ratings.csv', newline='') as csv_file:\n",
    "    data = csv.reader(csv_file, delimiter=',', quotechar='\"')\n",
    "    \n",
    "    for row in data:\n",
    "        if not first:\n",
    "            #transform(row)\n",
    "            cursor.execute(sql_all, row)\n",
    "            counter = counter + 1\n",
    "        \n",
    "        if counter == 10:\n",
    "            break\n",
    "            \n",
    "            \n",
    "        first = False\n",
    "    \n",
    "conn.commit()"
   ]
  },
  {
   "cell_type": "code",
   "execution_count": 35,
   "id": "6e381f21",
   "metadata": {},
   "outputs": [
    {
     "name": "stdout",
     "output_type": "stream",
     "text": [
      "[(1, 2762, 4.5, 1425941300), (1, 858, 5.0, 1425941523), (1, 110, 1.0, 1425941529), (1, 1221, 5.0, 1425941546), (1, 1246, 5.0, 1425941556), (1, 2918, 5.0, 1425941593), (1, 2959, 4.0, 1425941601), (1, 1968, 4.0, 1425942148), (1, 4226, 4.0, 1425942228), (1, 147, 4.5, 1425942435)]\n"
     ]
    }
   ],
   "source": [
    "sql =   (\"\"\" SELECT * FROM movies\"\"\")\n",
    "\n",
    "cursor.execute(sql)\n",
    "test = cursor.fetchall()\n",
    "print(test);"
   ]
  },
  {
   "cell_type": "code",
   "execution_count": 38,
   "id": "43d98c3e",
   "metadata": {},
   "outputs": [
    {
     "data": {
      "text/html": [
       "<div>\n",
       "<style scoped>\n",
       "    .dataframe tbody tr th:only-of-type {\n",
       "        vertical-align: middle;\n",
       "    }\n",
       "\n",
       "    .dataframe tbody tr th {\n",
       "        vertical-align: top;\n",
       "    }\n",
       "\n",
       "    .dataframe thead th {\n",
       "        text-align: right;\n",
       "    }\n",
       "</style>\n",
       "<table border=\"1\" class=\"dataframe\">\n",
       "  <thead>\n",
       "    <tr style=\"text-align: right;\">\n",
       "      <th></th>\n",
       "      <th>0</th>\n",
       "      <th>1</th>\n",
       "      <th>2</th>\n",
       "      <th>3</th>\n",
       "    </tr>\n",
       "  </thead>\n",
       "  <tbody>\n",
       "    <tr>\n",
       "      <th>0</th>\n",
       "      <td>1</td>\n",
       "      <td>2762</td>\n",
       "      <td>4.5</td>\n",
       "      <td>1425941300</td>\n",
       "    </tr>\n",
       "    <tr>\n",
       "      <th>1</th>\n",
       "      <td>1</td>\n",
       "      <td>858</td>\n",
       "      <td>5.0</td>\n",
       "      <td>1425941523</td>\n",
       "    </tr>\n",
       "    <tr>\n",
       "      <th>2</th>\n",
       "      <td>1</td>\n",
       "      <td>110</td>\n",
       "      <td>1.0</td>\n",
       "      <td>1425941529</td>\n",
       "    </tr>\n",
       "    <tr>\n",
       "      <th>3</th>\n",
       "      <td>1</td>\n",
       "      <td>1221</td>\n",
       "      <td>5.0</td>\n",
       "      <td>1425941546</td>\n",
       "    </tr>\n",
       "    <tr>\n",
       "      <th>4</th>\n",
       "      <td>1</td>\n",
       "      <td>1246</td>\n",
       "      <td>5.0</td>\n",
       "      <td>1425941556</td>\n",
       "    </tr>\n",
       "    <tr>\n",
       "      <th>5</th>\n",
       "      <td>1</td>\n",
       "      <td>2918</td>\n",
       "      <td>5.0</td>\n",
       "      <td>1425941593</td>\n",
       "    </tr>\n",
       "    <tr>\n",
       "      <th>6</th>\n",
       "      <td>1</td>\n",
       "      <td>2959</td>\n",
       "      <td>4.0</td>\n",
       "      <td>1425941601</td>\n",
       "    </tr>\n",
       "    <tr>\n",
       "      <th>7</th>\n",
       "      <td>1</td>\n",
       "      <td>1968</td>\n",
       "      <td>4.0</td>\n",
       "      <td>1425942148</td>\n",
       "    </tr>\n",
       "    <tr>\n",
       "      <th>8</th>\n",
       "      <td>1</td>\n",
       "      <td>4226</td>\n",
       "      <td>4.0</td>\n",
       "      <td>1425942228</td>\n",
       "    </tr>\n",
       "    <tr>\n",
       "      <th>9</th>\n",
       "      <td>1</td>\n",
       "      <td>147</td>\n",
       "      <td>4.5</td>\n",
       "      <td>1425942435</td>\n",
       "    </tr>\n",
       "  </tbody>\n",
       "</table>\n",
       "</div>"
      ],
      "text/plain": [
       "   0     1    2           3\n",
       "0  1  2762  4.5  1425941300\n",
       "1  1   858  5.0  1425941523\n",
       "2  1   110  1.0  1425941529\n",
       "3  1  1221  5.0  1425941546\n",
       "4  1  1246  5.0  1425941556\n",
       "5  1  2918  5.0  1425941593\n",
       "6  1  2959  4.0  1425941601\n",
       "7  1  1968  4.0  1425942148\n",
       "8  1  4226  4.0  1425942228\n",
       "9  1   147  4.5  1425942435"
      ]
     },
     "execution_count": 38,
     "metadata": {},
     "output_type": "execute_result"
    }
   ],
   "source": [
    "pd.DataFrame(test)"
   ]
  },
  {
   "cell_type": "code",
   "execution_count": null,
   "id": "635c5e05",
   "metadata": {},
   "outputs": [],
   "source": []
  }
 ],
 "metadata": {
  "kernelspec": {
   "display_name": "Python 3 (ipykernel)",
   "language": "python",
   "name": "python3"
  },
  "language_info": {
   "codemirror_mode": {
    "name": "ipython",
    "version": 3
   },
   "file_extension": ".py",
   "mimetype": "text/x-python",
   "name": "python",
   "nbconvert_exporter": "python",
   "pygments_lexer": "ipython3",
   "version": "3.9.17"
  }
 },
 "nbformat": 4,
 "nbformat_minor": 5
}
